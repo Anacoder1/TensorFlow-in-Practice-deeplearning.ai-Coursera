{
  "nbformat": 4,
  "nbformat_minor": 0,
  "metadata": {
    "colab": {
      "name": "Course 3 - Week 2 - Lesson 2.ipynb",
      "provenance": [],
      "collapsed_sections": []
    },
    "kernelspec": {
      "name": "python3",
      "display_name": "Python 3"
    },
    "accelerator": "GPU"
  },
  "cells": [
    {
      "cell_type": "code",
      "metadata": {
        "id": "oFTHvxpXxCHJ",
        "colab_type": "code",
        "colab": {
          "base_uri": "https://localhost:8080/",
          "height": 573
        },
        "outputId": "1e962f0c-b9c1-4bbf-f84a-d9ec3400a48a"
      },
      "source": [
        "import json \n",
        "\n",
        "!pip install tensorflow==2.0.0-alpha0"
      ],
      "execution_count": 1,
      "outputs": [
        {
          "output_type": "stream",
          "text": [
            "Collecting tensorflow==2.0.0-alpha0\n",
            "\u001b[?25l  Downloading https://files.pythonhosted.org/packages/29/39/f99185d39131b8333afcfe1dcdb0629c2ffc4ecfb0e4c14ca210d620e56c/tensorflow-2.0.0a0-cp36-cp36m-manylinux1_x86_64.whl (79.9MB)\n",
            "\u001b[K     |████████████████████████████████| 79.9MB 33.8MB/s \n",
            "\u001b[?25hRequirement already satisfied: absl-py>=0.7.0 in /usr/local/lib/python3.6/dist-packages (from tensorflow==2.0.0-alpha0) (0.8.0)\n",
            "Requirement already satisfied: keras-applications>=1.0.6 in /usr/local/lib/python3.6/dist-packages (from tensorflow==2.0.0-alpha0) (1.0.8)\n",
            "Requirement already satisfied: six>=1.10.0 in /usr/local/lib/python3.6/dist-packages (from tensorflow==2.0.0-alpha0) (1.12.0)\n",
            "Requirement already satisfied: wheel>=0.26 in /usr/local/lib/python3.6/dist-packages (from tensorflow==2.0.0-alpha0) (0.33.6)\n",
            "Requirement already satisfied: gast>=0.2.0 in /usr/local/lib/python3.6/dist-packages (from tensorflow==2.0.0-alpha0) (0.2.2)\n",
            "Requirement already satisfied: keras-preprocessing>=1.0.5 in /usr/local/lib/python3.6/dist-packages (from tensorflow==2.0.0-alpha0) (1.1.0)\n",
            "Requirement already satisfied: astor>=0.6.0 in /usr/local/lib/python3.6/dist-packages (from tensorflow==2.0.0-alpha0) (0.8.0)\n",
            "Requirement already satisfied: google-pasta>=0.1.2 in /usr/local/lib/python3.6/dist-packages (from tensorflow==2.0.0-alpha0) (0.1.7)\n",
            "Requirement already satisfied: protobuf>=3.6.1 in /usr/local/lib/python3.6/dist-packages (from tensorflow==2.0.0-alpha0) (3.7.1)\n",
            "Requirement already satisfied: termcolor>=1.1.0 in /usr/local/lib/python3.6/dist-packages (from tensorflow==2.0.0-alpha0) (1.1.0)\n",
            "Collecting tf-estimator-nightly<1.14.0.dev2019030116,>=1.14.0.dev2019030115 (from tensorflow==2.0.0-alpha0)\n",
            "\u001b[?25l  Downloading https://files.pythonhosted.org/packages/13/82/f16063b4eed210dc2ab057930ac1da4fbe1e91b7b051a6c8370b401e6ae7/tf_estimator_nightly-1.14.0.dev2019030115-py2.py3-none-any.whl (411kB)\n",
            "\u001b[K     |████████████████████████████████| 419kB 44.3MB/s \n",
            "\u001b[?25hRequirement already satisfied: numpy<2.0,>=1.14.5 in /usr/local/lib/python3.6/dist-packages (from tensorflow==2.0.0-alpha0) (1.16.5)\n",
            "Requirement already satisfied: grpcio>=1.8.6 in /usr/local/lib/python3.6/dist-packages (from tensorflow==2.0.0-alpha0) (1.15.0)\n",
            "Collecting tb-nightly<1.14.0a20190302,>=1.14.0a20190301 (from tensorflow==2.0.0-alpha0)\n",
            "\u001b[?25l  Downloading https://files.pythonhosted.org/packages/a9/51/aa1d756644bf4624c03844115e4ac4058eff77acd786b26315f051a4b195/tb_nightly-1.14.0a20190301-py3-none-any.whl (3.0MB)\n",
            "\u001b[K     |████████████████████████████████| 3.0MB 43.5MB/s \n",
            "\u001b[?25hRequirement already satisfied: h5py in /usr/local/lib/python3.6/dist-packages (from keras-applications>=1.0.6->tensorflow==2.0.0-alpha0) (2.8.0)\n",
            "Requirement already satisfied: setuptools in /usr/local/lib/python3.6/dist-packages (from protobuf>=3.6.1->tensorflow==2.0.0-alpha0) (41.2.0)\n",
            "Requirement already satisfied: werkzeug>=0.11.15 in /usr/local/lib/python3.6/dist-packages (from tb-nightly<1.14.0a20190302,>=1.14.0a20190301->tensorflow==2.0.0-alpha0) (0.15.6)\n",
            "Requirement already satisfied: markdown>=2.6.8 in /usr/local/lib/python3.6/dist-packages (from tb-nightly<1.14.0a20190302,>=1.14.0a20190301->tensorflow==2.0.0-alpha0) (3.1.1)\n",
            "Installing collected packages: tf-estimator-nightly, tb-nightly, tensorflow\n",
            "  Found existing installation: tensorflow 1.14.0\n",
            "    Uninstalling tensorflow-1.14.0:\n",
            "      Successfully uninstalled tensorflow-1.14.0\n",
            "Successfully installed tb-nightly-1.14.0a20190301 tensorflow-2.0.0a0 tf-estimator-nightly-1.14.0.dev2019030115\n"
          ],
          "name": "stdout"
        }
      ]
    },
    {
      "cell_type": "code",
      "metadata": {
        "id": "y4d6DEfMxnj1",
        "colab_type": "code",
        "colab": {}
      },
      "source": [
        "import tensorflow as tf\n",
        "\n",
        "from tensorflow.keras.preprocessing.text import Tokenizer\n",
        "from tensorflow.keras.preprocessing.sequence import pad_sequences"
      ],
      "execution_count": 0,
      "outputs": []
    },
    {
      "cell_type": "code",
      "metadata": {
        "id": "p0LpkEdHx7LH",
        "colab_type": "code",
        "colab": {}
      },
      "source": [
        "vocab_size = 10000\n",
        "embedding_dim = 16\n",
        "max_length = 100\n",
        "trunc_type = 'post'\n",
        "padding_type = 'post'\n",
        "oov_tok = \"<OOV>\"\n",
        "training_size = 20000"
      ],
      "execution_count": 0,
      "outputs": []
    },
    {
      "cell_type": "code",
      "metadata": {
        "id": "VO1oPJYPyDaL",
        "colab_type": "code",
        "colab": {
          "base_uri": "https://localhost:8080/",
          "height": 234
        },
        "outputId": "cc3b2402-6cad-49f7-a8d7-54d761e11694"
      },
      "source": [
        "!wget --no-check-certificate \\\n",
        "    https://storage.googleapis.com/laurencemoroney-blog.appspot.com/sarcasm.json \\\n",
        "    -O /tmp/sarcasm.json"
      ],
      "execution_count": 4,
      "outputs": [
        {
          "output_type": "stream",
          "text": [
            "--2019-09-22 07:03:44--  https://storage.googleapis.com/laurencemoroney-blog.appspot.com/sarcasm.json\n",
            "Resolving storage.googleapis.com (storage.googleapis.com)... 64.233.184.128, 2a00:1450:400c:c08::80\n",
            "Connecting to storage.googleapis.com (storage.googleapis.com)|64.233.184.128|:443... connected.\n",
            "HTTP request sent, awaiting response... 200 OK\n",
            "Length: 5643545 (5.4M) [application/json]\n",
            "Saving to: ‘/tmp/sarcasm.json’\n",
            "\n",
            "\r/tmp/sarcasm.json     0%[                    ]       0  --.-KB/s               \r/tmp/sarcasm.json   100%[===================>]   5.38M  --.-KB/s    in 0.1s    \n",
            "\n",
            "2019-09-22 07:03:45 (39.3 MB/s) - ‘/tmp/sarcasm.json’ saved [5643545/5643545]\n",
            "\n"
          ],
          "name": "stdout"
        }
      ]
    },
    {
      "cell_type": "code",
      "metadata": {
        "id": "zvSksWBOyIYo",
        "colab_type": "code",
        "colab": {}
      },
      "source": [
        "with open(\"/tmp/sarcasm.json\", 'r') as f:\n",
        "  datastore = json.load(f)\n",
        "  \n",
        "sentences = []\n",
        "labels = []\n",
        "\n",
        "for item in datastore:\n",
        "  sentences.append(item['headline'])\n",
        "  labels.append(item['is_sarcastic'])"
      ],
      "execution_count": 0,
      "outputs": []
    },
    {
      "cell_type": "code",
      "metadata": {
        "id": "KHqHq3w-1ubc",
        "colab_type": "code",
        "colab": {}
      },
      "source": [
        "training_sentences = sentences[0 : training_size]\n",
        "testing_sentences = sentences[training_size : ]\n",
        "\n",
        "training_labels = labels[0 : training_size]\n",
        "testing_labels = labels[training_size : ]"
      ],
      "execution_count": 0,
      "outputs": []
    },
    {
      "cell_type": "code",
      "metadata": {
        "id": "83mALTv518Ak",
        "colab_type": "code",
        "colab": {}
      },
      "source": [
        "tokenizer = Tokenizer(num_words = vocab_size,\n",
        "                      oov_token = oov_tok)\n",
        "tokenizer.fit_on_texts(training_sentences)\n",
        "\n",
        "\n",
        "word_index = tokenizer.word_index\n",
        "\n",
        "\n",
        "training_sequences = tokenizer.texts_to_sequences(training_sentences)\n",
        "training_padded = pad_sequences(training_sequences,\n",
        "                                maxlen = max_length,\n",
        "                                padding = padding_type,\n",
        "                                truncating = trunc_type)\n",
        "\n",
        "testing_sequences = tokenizer.texts_to_sequences(testing_sentences)\n",
        "testing_padded = pad_sequences(testing_sequences,\n",
        "                               maxlen = max_length,\n",
        "                               padding = padding_type,\n",
        "                               truncating = trunc_type)"
      ],
      "execution_count": 0,
      "outputs": []
    },
    {
      "cell_type": "code",
      "metadata": {
        "id": "dXXEfHb82r7T",
        "colab_type": "code",
        "colab": {}
      },
      "source": [
        "model = tf.keras.Sequential([\n",
        "    tf.keras.layers.Embedding(vocab_size, embedding_dim,\n",
        "                              input_length = max_length),\n",
        "    tf.keras.layers.GlobalAveragePooling1D(),\n",
        "    tf.keras.layers.Dense(24, activation = 'relu'),\n",
        "    tf.keras.layers.Dense(1, activation = 'sigmoid')\n",
        "])\n",
        "\n",
        "model.compile(loss = 'binary_crossentropy',\n",
        "              optimizer = 'adam',\n",
        "              metrics = ['accuracy'])"
      ],
      "execution_count": 0,
      "outputs": []
    },
    {
      "cell_type": "code",
      "metadata": {
        "id": "E89iUh-33L7Q",
        "colab_type": "code",
        "colab": {
          "base_uri": "https://localhost:8080/",
          "height": 303
        },
        "outputId": "f8c11bcd-b8f3-465f-fd51-c0a1a2124bfd"
      },
      "source": [
        "model.summary()"
      ],
      "execution_count": 9,
      "outputs": [
        {
          "output_type": "stream",
          "text": [
            "Model: \"sequential\"\n",
            "_________________________________________________________________\n",
            "Layer (type)                 Output Shape              Param #   \n",
            "=================================================================\n",
            "embedding (Embedding)        (None, 100, 16)           160000    \n",
            "_________________________________________________________________\n",
            "global_average_pooling1d (Gl (None, 16)                0         \n",
            "_________________________________________________________________\n",
            "dense (Dense)                (None, 24)                408       \n",
            "_________________________________________________________________\n",
            "dense_1 (Dense)              (None, 1)                 25        \n",
            "=================================================================\n",
            "Total params: 160,433\n",
            "Trainable params: 160,433\n",
            "Non-trainable params: 0\n",
            "_________________________________________________________________\n"
          ],
          "name": "stdout"
        }
      ]
    },
    {
      "cell_type": "code",
      "metadata": {
        "id": "l7k11_hv3N-u",
        "colab_type": "code",
        "colab": {
          "base_uri": "https://localhost:8080/",
          "height": 1000
        },
        "outputId": "04778403-40b9-483c-81f3-371be628e129"
      },
      "source": [
        "num_epochs = 30\n",
        "\n",
        "history = model.fit(training_padded, training_labels,\n",
        "                    epochs = num_epochs,\n",
        "                    validation_data = (testing_padded,\n",
        "                                       testing_labels),\n",
        "                    verbose = 2)"
      ],
      "execution_count": 10,
      "outputs": [
        {
          "output_type": "stream",
          "text": [
            "Train on 20000 samples, validate on 6709 samples\n",
            "Epoch 1/30\n",
            "20000/20000 - 3s - loss: 0.6713 - accuracy: 0.5702 - val_loss: 0.6116 - val_accuracy: 0.6575\n",
            "Epoch 2/30\n",
            "20000/20000 - 2s - loss: 0.4519 - accuracy: 0.8183 - val_loss: 0.3877 - val_accuracy: 0.8408\n",
            "Epoch 3/30\n",
            "20000/20000 - 2s - loss: 0.3138 - accuracy: 0.8752 - val_loss: 0.3534 - val_accuracy: 0.8542\n",
            "Epoch 4/30\n",
            "20000/20000 - 2s - loss: 0.2596 - accuracy: 0.8986 - val_loss: 0.3431 - val_accuracy: 0.8568\n",
            "Epoch 5/30\n",
            "20000/20000 - 2s - loss: 0.2239 - accuracy: 0.9133 - val_loss: 0.3449 - val_accuracy: 0.8578\n",
            "Epoch 6/30\n",
            "20000/20000 - 2s - loss: 0.1962 - accuracy: 0.9245 - val_loss: 0.3506 - val_accuracy: 0.8550\n",
            "Epoch 7/30\n",
            "20000/20000 - 2s - loss: 0.1751 - accuracy: 0.9333 - val_loss: 0.3646 - val_accuracy: 0.8548\n",
            "Epoch 8/30\n",
            "20000/20000 - 2s - loss: 0.1558 - accuracy: 0.9421 - val_loss: 0.3830 - val_accuracy: 0.8505\n",
            "Epoch 9/30\n",
            "20000/20000 - 2s - loss: 0.1396 - accuracy: 0.9488 - val_loss: 0.4022 - val_accuracy: 0.8509\n",
            "Epoch 10/30\n",
            "20000/20000 - 2s - loss: 0.1279 - accuracy: 0.9546 - val_loss: 0.4218 - val_accuracy: 0.8471\n",
            "Epoch 11/30\n",
            "20000/20000 - 2s - loss: 0.1147 - accuracy: 0.9602 - val_loss: 0.4438 - val_accuracy: 0.8487\n",
            "Epoch 12/30\n",
            "20000/20000 - 2s - loss: 0.1047 - accuracy: 0.9634 - val_loss: 0.4742 - val_accuracy: 0.8401\n",
            "Epoch 13/30\n",
            "20000/20000 - 2s - loss: 0.0955 - accuracy: 0.9668 - val_loss: 0.5176 - val_accuracy: 0.8366\n",
            "Epoch 14/30\n",
            "20000/20000 - 2s - loss: 0.0871 - accuracy: 0.9705 - val_loss: 0.5206 - val_accuracy: 0.8408\n",
            "Epoch 15/30\n",
            "20000/20000 - 2s - loss: 0.0810 - accuracy: 0.9733 - val_loss: 0.5717 - val_accuracy: 0.8346\n",
            "Epoch 16/30\n",
            "20000/20000 - 2s - loss: 0.0732 - accuracy: 0.9768 - val_loss: 0.5839 - val_accuracy: 0.8368\n",
            "Epoch 17/30\n",
            "20000/20000 - 2s - loss: 0.0680 - accuracy: 0.9785 - val_loss: 0.6621 - val_accuracy: 0.8275\n",
            "Epoch 18/30\n",
            "20000/20000 - 2s - loss: 0.0635 - accuracy: 0.9795 - val_loss: 0.6487 - val_accuracy: 0.8310\n",
            "Epoch 19/30\n",
            "20000/20000 - 2s - loss: 0.0577 - accuracy: 0.9822 - val_loss: 0.6853 - val_accuracy: 0.8289\n",
            "Epoch 20/30\n",
            "20000/20000 - 2s - loss: 0.0522 - accuracy: 0.9838 - val_loss: 0.7459 - val_accuracy: 0.8268\n",
            "Epoch 21/30\n",
            "20000/20000 - 2s - loss: 0.0481 - accuracy: 0.9856 - val_loss: 0.7541 - val_accuracy: 0.8246\n",
            "Epoch 22/30\n",
            "20000/20000 - 2s - loss: 0.0430 - accuracy: 0.9873 - val_loss: 0.8757 - val_accuracy: 0.8205\n",
            "Epoch 23/30\n",
            "20000/20000 - 2s - loss: 0.0416 - accuracy: 0.9875 - val_loss: 0.8571 - val_accuracy: 0.8199\n",
            "Epoch 24/30\n",
            "20000/20000 - 2s - loss: 0.0379 - accuracy: 0.9890 - val_loss: 0.8926 - val_accuracy: 0.8202\n",
            "Epoch 25/30\n",
            "20000/20000 - 2s - loss: 0.0349 - accuracy: 0.9894 - val_loss: 0.9261 - val_accuracy: 0.8189\n",
            "Epoch 26/30\n",
            "20000/20000 - 2s - loss: 0.0309 - accuracy: 0.9918 - val_loss: 0.9661 - val_accuracy: 0.8195\n",
            "Epoch 27/30\n",
            "20000/20000 - 2s - loss: 0.0302 - accuracy: 0.9910 - val_loss: 0.9887 - val_accuracy: 0.8171\n",
            "Epoch 28/30\n",
            "20000/20000 - 2s - loss: 0.0280 - accuracy: 0.9926 - val_loss: 1.0708 - val_accuracy: 0.8173\n",
            "Epoch 29/30\n",
            "20000/20000 - 2s - loss: 0.0275 - accuracy: 0.9919 - val_loss: 1.1131 - val_accuracy: 0.8144\n",
            "Epoch 30/30\n",
            "20000/20000 - 2s - loss: 0.0227 - accuracy: 0.9937 - val_loss: 1.1340 - val_accuracy: 0.8146\n"
          ],
          "name": "stdout"
        }
      ]
    },
    {
      "cell_type": "code",
      "metadata": {
        "id": "DNTLs3y73eW5",
        "colab_type": "code",
        "colab": {
          "base_uri": "https://localhost:8080/",
          "height": 549
        },
        "outputId": "30014313-3bf2-480e-93be-f7d64ccdf647"
      },
      "source": [
        "import matplotlib.pyplot as plt\n",
        "\n",
        "\n",
        "def plot_graphs(history, string):\n",
        "  plt.plot(history.history[string])\n",
        "  plt.plot(history.history['val_' + string])\n",
        "  plt.xlabel(\"Epochs\")\n",
        "  plt.ylabel(string)\n",
        "  plt.legend([string, 'val_' + string])\n",
        "  plt.show()\n",
        "  \n",
        "plot_graphs(history, \"accuracy\")\n",
        "plot_graphs(history, \"loss\")"
      ],
      "execution_count": 11,
      "outputs": [
        {
          "output_type": "display_data",
          "data": {
            "image/png": "[encoded data removed]",
            "text/plain": [
              "<Figure size 432x288 with 1 Axes>"
            ]
          },
          "metadata": {
            "tags": []
          }
        },
        {
          "output_type": "display_data",
          "data": {
            "image/png": "[encoded data removed]",
            "text/plain": [
              "<Figure size 432x288 with 1 Axes>"
            ]
          },
          "metadata": {
            "tags": []
          }
        }
      ]
    },
    {
      "cell_type": "code",
      "metadata": {
        "id": "4wb66GTQ4K-u",
        "colab_type": "code",
        "colab": {
          "base_uri": "https://localhost:8080/",
          "height": 91
        },
        "outputId": "7aa5158c-5ace-4b42-c217-a6ee013743f2"
      },
      "source": [
        "reverse_word_index = dict([(value, key) for (key, value) in \n",
        "                           word_index.items()])\n",
        "\n",
        "def decode_sentence(text):\n",
        "  return ' '.join([reverse_word_index.get(i, '?')\n",
        "                   for i in text])\n",
        "\n",
        "print(decode_sentence(training_padded[0]))\n",
        "print(training_sentences[2])\n",
        "print(labels[2])"
      ],
      "execution_count": 12,
      "outputs": [
        {
          "output_type": "stream",
          "text": [
            "former <OOV> store clerk sues over secret 'black <OOV> for minority shoppers ? ? ? ? ? ? ? ? ? ? ? ? ? ? ? ? ? ? ? ? ? ? ? ? ? ? ? ? ? ? ? ? ? ? ? ? ? ? ? ? ? ? ? ? ? ? ? ? ? ? ? ? ? ? ? ? ? ? ? ? ? ? ? ? ? ? ? ? ? ? ? ? ? ? ? ? ? ? ? ? ? ? ? ? ? ? ? ?\n",
            "mom starting to fear son's web series closest thing she will have to grandchild\n",
            "1\n"
          ],
          "name": "stdout"
        }
      ]
    },
    {
      "cell_type": "code",
      "metadata": {
        "id": "tkOWtjf-4qSt",
        "colab_type": "code",
        "colab": {
          "base_uri": "https://localhost:8080/",
          "height": 35
        },
        "outputId": "1f91b8e2-c780-42dd-fea8-7bce712ec721"
      },
      "source": [
        "e = model.layers[0]\n",
        "\n",
        "weights = e.get_weights()[0]\n",
        "\n",
        "print(weights.shape)    # shape: (vocab_size, embedding_dim)"
      ],
      "execution_count": 13,
      "outputs": [
        {
          "output_type": "stream",
          "text": [
            "(10000, 16)\n"
          ],
          "name": "stdout"
        }
      ]
    },
    {
      "cell_type": "code",
      "metadata": {
        "id": "LmbSjK5l49en",
        "colab_type": "code",
        "colab": {}
      },
      "source": [
        "import io\n",
        "\n",
        "out_v = io.open('sarcasm_vecs.tsv', 'w', encoding = 'utf-8')\n",
        "out_m = io.open('sarcasm_meta.tsv', 'w', encoding = 'utf-8')\n",
        "\n",
        "for word_num in range(1, vocab_size):\n",
        "  word = reverse_word_index[word_num]\n",
        "  embeddings = weights[word_num]\n",
        "  out_m.write(word + \"\\n\")\n",
        "  out_v.write('\\t'.join([str(x) for x in embeddings]) + \"\\n\")\n",
        "out_v.close()\n",
        "out_m.close()"
      ],
      "execution_count": 0,
      "outputs": []
    },
    {
      "cell_type": "code",
      "metadata": {
        "id": "H4qxLAo05e1w",
        "colab_type": "code",
        "colab": {}
      },
      "source": [
        "try:\n",
        "  from google.colab import files\n",
        "except ImportError:\n",
        "  pass\n",
        "else:\n",
        "  files.download('sarcasm_vecs.tsv')\n",
        "  files.download('sarcasm_meta.tsv')"
      ],
      "execution_count": 0,
      "outputs": []
    },
    {
      "cell_type": "code",
      "metadata": {
        "id": "roqWjKsX7M3z",
        "colab_type": "code",
        "colab": {
          "base_uri": "https://localhost:8080/",
          "height": 53
        },
        "outputId": "35a3effc-3ce2-4c83-944d-d455688f7578"
      },
      "source": [
        "sentence = [\n",
        "    \"granny starting to fear spiders in the garden might be real\",\n",
        "    \"game of thrones season finale showing this sunday night\"\n",
        "]\n",
        "\n",
        "sequences = tokenizer.texts_to_sequences(sentence)\n",
        "padded = pad_sequences(sequences, \n",
        "                       maxlen = max_length,\n",
        "                       padding = padding_type,\n",
        "                       truncating = trunc_type)\n",
        "print(model.predict(padded))"
      ],
      "execution_count": 17,
      "outputs": [
        {
          "output_type": "stream",
          "text": [
            "[[8.8710117e-01]\n",
            " [3.8116644e-07]]\n"
          ],
          "name": "stdout"
        }
      ]
    }
  ]
}
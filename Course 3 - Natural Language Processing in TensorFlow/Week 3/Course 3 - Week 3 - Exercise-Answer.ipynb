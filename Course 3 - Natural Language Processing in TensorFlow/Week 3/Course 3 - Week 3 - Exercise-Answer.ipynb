{
  "nbformat": 4,
  "nbformat_minor": 0,
  "metadata": {
    "colab": {
      "name": "Course - 3 Week - 3 Exercise-Answer.ipynb",
      "provenance": [],
      "collapsed_sections": []
    },
    "kernelspec": {
      "name": "python3",
      "display_name": "Python 3"
    },
    "accelerator": "GPU"
  },
  "cells": [
    {
      "cell_type": "code",
      "metadata": {
        "id": "hmA6EzkQJ5jt",
        "colab_type": "code",
        "colab": {}
      },
      "source": [
        "import json\n",
        "import tensorflow as tf\n",
        "import csv\n",
        "import random\n",
        "import numpy as np\n",
        "\n",
        "from tensorflow.keras.preprocessing.text import Tokenizer\n",
        "from tensorflow.keras.preprocessing.sequence import pad_sequences\n",
        "from tensorflow.keras.utils import to_categorical\n",
        "from tensorflow.keras import regularizers\n",
        "\n",
        "\n",
        "embedding_dim = 100\n",
        "max_length = 16\n",
        "trunc_type='post'\n",
        "padding_type='post'\n",
        "oov_tok = \"<OOV>\"\n",
        "training_size=160000\n",
        "test_portion=.1\n",
        "\n",
        "corpus = []\n"
      ],
      "execution_count": 0,
      "outputs": []
    },
    {
      "cell_type": "code",
      "metadata": {
        "id": "bM0l_dORKqE0",
        "colab_type": "code",
        "outputId": "bb65b2f9-e627-4033-f266-7a3d8b71a6f1",
        "colab": {
          "base_uri": "https://localhost:8080/",
          "height": 214
        }
      },
      "source": [
        "# Note that I cleaned the Stanford dataset to remove LATIN1 encoding to make it easier for Python CSV reader\n",
        "# You can do that yourself with:\n",
        "# iconv -f LATIN1 -t UTF8 training.1600000.processed.noemoticon.csv -o training_cleaned.csv\n",
        "# I then hosted it on my site to make it easier to use in this notebook\n",
        "\n",
        "!wget --no-check-certificate \\\n",
        "    https://storage.googleapis.com/laurencemoroney-blog.appspot.com/training_cleaned.csv \\\n",
        "    -O /tmp/training_cleaned.csv\n",
        "\n",
        "num_sentences = 0\n",
        "\n",
        "with open(\"/tmp/training_cleaned.csv\") as csvfile:\n",
        "    reader = csv.reader(csvfile, delimiter=',')\n",
        "    for row in reader:\n",
        "        list_item=[]\n",
        "        list_item.append(row[5])\n",
        "        this_label=row[0]\n",
        "        if this_label=='0':\n",
        "            list_item.append(0)\n",
        "        else:\n",
        "            list_item.append(1)\n",
        "        num_sentences = num_sentences + 1\n",
        "        corpus.append(list_item)"
      ],
      "execution_count": 2,
      "outputs": [
        {
          "output_type": "stream",
          "text": [
            "--2019-09-23 05:53:18--  https://storage.googleapis.com/laurencemoroney-blog.appspot.com/training_cleaned.csv\n",
            "Resolving storage.googleapis.com (storage.googleapis.com)... 74.125.203.128, 2404:6800:4008:c04::80\n",
            "Connecting to storage.googleapis.com (storage.googleapis.com)|74.125.203.128|:443... connected.\n",
            "HTTP request sent, awaiting response... 200 OK\n",
            "Length: 238942690 (228M) [application/octet-stream]\n",
            "Saving to: ‘/tmp/training_cleaned.csv’\n",
            "\n",
            "/tmp/training_clean 100%[===================>] 227.87M  91.3MB/s    in 2.5s    \n",
            "\n",
            "2019-09-23 05:53:21 (91.3 MB/s) - ‘/tmp/training_cleaned.csv’ saved [238942690/238942690]\n",
            "\n"
          ],
          "name": "stdout"
        }
      ]
    },
    {
      "cell_type": "code",
      "metadata": {
        "id": "3kxblBUjEUX-",
        "colab_type": "code",
        "outputId": "d764909c-76bc-4b35-be2f-7141007ebb6d",
        "colab": {
          "base_uri": "https://localhost:8080/",
          "height": 71
        }
      },
      "source": [
        "print(num_sentences)\n",
        "print(len(corpus))\n",
        "print(corpus[1])\n",
        "\n",
        "# Expected Output:\n",
        "# 1600000\n",
        "# 1600000\n",
        "# [\"is upset that he can't update his Facebook by texting it... and might cry as a result  School today also. Blah!\", 0]"
      ],
      "execution_count": 3,
      "outputs": [
        {
          "output_type": "stream",
          "text": [
            "1600000\n",
            "1600000\n",
            "[\"is upset that he can't update his Facebook by texting it... and might cry as a result  School today also. Blah!\", 0]\n"
          ],
          "name": "stdout"
        }
      ]
    },
    {
      "cell_type": "code",
      "metadata": {
        "id": "ohOGz24lsNAD",
        "colab_type": "code",
        "colab": {}
      },
      "source": [
        "sentences=[]\n",
        "labels=[]\n",
        "random.shuffle(corpus)\n",
        "for x in range(training_size):\n",
        "    sentences.append(corpus[x][0])\n",
        "    labels.append(corpus[x][1])\n",
        "\n",
        "\n",
        "tokenizer = Tokenizer()\n",
        "tokenizer.fit_on_texts(sentences)\n",
        "\n",
        "word_index = tokenizer.word_index\n",
        "vocab_size=len(word_index)\n",
        "\n",
        "sequences = tokenizer.texts_to_sequences(sentences)\n",
        "padded = pad_sequences(sequences, \n",
        "                       maxlen = max_length, \n",
        "                       padding = padding_type, \n",
        "                       truncating = trunc_type)\n",
        "\n",
        "split = int(test_portion * training_size)\n",
        "\n",
        "test_sequences = padded[0 : split]\n",
        "training_sequences = padded[split : training_size]\n",
        "test_labels = labels[0 : split]\n",
        "training_labels = labels[split : training_size]"
      ],
      "execution_count": 0,
      "outputs": []
    },
    {
      "cell_type": "code",
      "metadata": {
        "id": "gIrtRem1En3N",
        "colab_type": "code",
        "outputId": "dfcbe431-3d6c-4415-8726-fd94f21ad883",
        "colab": {
          "base_uri": "https://localhost:8080/",
          "height": 53
        }
      },
      "source": [
        "print(vocab_size)\n",
        "print(word_index['i'])\n",
        "# Expected Output\n",
        "# 138858\n",
        "# 1"
      ],
      "execution_count": 5,
      "outputs": [
        {
          "output_type": "stream",
          "text": [
            "138728\n",
            "1\n"
          ],
          "name": "stdout"
        }
      ]
    },
    {
      "cell_type": "code",
      "metadata": {
        "id": "C1zdgJkusRh0",
        "colab_type": "code",
        "outputId": "8b8ec617-0e9a-4acb-e407-a75933e97c8b",
        "colab": {
          "base_uri": "https://localhost:8080/",
          "height": 214
        }
      },
      "source": [
        "# Note this is the 100 dimension version of GloVe from Stanford\n",
        "# I unzipped and hosted it on my site to make this notebook easier\n",
        "\n",
        "!wget --no-check-certificate \\\n",
        "    https://storage.googleapis.com/laurencemoroney-blog.appspot.com/glove.6B.100d.txt \\\n",
        "    -O /tmp/glove.6B.100d.txt\n",
        "  \n",
        "embeddings_index = {};\n",
        "with open('/tmp/glove.6B.100d.txt') as f:\n",
        "    for line in f:\n",
        "        values = line.split();\n",
        "        word = values[0];\n",
        "        coefs = np.asarray(values[1:], dtype='float32');\n",
        "        embeddings_index[word] = coefs;\n",
        "\n",
        "embeddings_matrix = np.zeros((vocab_size+1, embedding_dim));\n",
        "for word, i in word_index.items():\n",
        "    embedding_vector = embeddings_index.get(word);\n",
        "    if embedding_vector is not None:\n",
        "        embeddings_matrix[i] = embedding_vector;"
      ],
      "execution_count": 6,
      "outputs": [
        {
          "output_type": "stream",
          "text": [
            "--2019-09-23 05:55:38--  https://storage.googleapis.com/laurencemoroney-blog.appspot.com/glove.6B.100d.txt\n",
            "Resolving storage.googleapis.com (storage.googleapis.com)... 74.125.203.128, 2404:6800:4008:c04::80\n",
            "Connecting to storage.googleapis.com (storage.googleapis.com)|74.125.203.128|:443... connected.\n",
            "HTTP request sent, awaiting response... 200 OK\n",
            "Length: 347116733 (331M) [text/plain]\n",
            "Saving to: ‘/tmp/glove.6B.100d.txt’\n",
            "\n",
            "/tmp/glove.6B.100d. 100%[===================>] 331.04M  73.0MB/s    in 4.5s    \n",
            "\n",
            "2019-09-23 05:55:43 (73.0 MB/s) - ‘/tmp/glove.6B.100d.txt’ saved [347116733/347116733]\n",
            "\n"
          ],
          "name": "stdout"
        }
      ]
    },
    {
      "cell_type": "code",
      "metadata": {
        "id": "71NLk_lpFLNt",
        "colab_type": "code",
        "outputId": "83342556-41a6-4b3f-cc57-ac39243da25b",
        "colab": {
          "base_uri": "https://localhost:8080/",
          "height": 35
        }
      },
      "source": [
        "print(len(embeddings_matrix))\n",
        "# Expected Output\n",
        "# 138859"
      ],
      "execution_count": 7,
      "outputs": [
        {
          "output_type": "stream",
          "text": [
            "138729\n"
          ],
          "name": "stdout"
        }
      ]
    },
    {
      "cell_type": "code",
      "metadata": {
        "colab_type": "code",
        "id": "iKKvbuEBOGFz",
        "colab": {
          "base_uri": "https://localhost:8080/",
          "height": 1000
        },
        "outputId": "e823b8aa-d25f-47f8-feb5-8e2a58c9283f"
      },
      "source": [
        "model = tf.keras.Sequential([\n",
        "    tf.keras.layers.Embedding(vocab_size+1, embedding_dim, \n",
        "                              input_length = max_length, \n",
        "                              weights = [embeddings_matrix], \n",
        "                              trainable=False),\n",
        "    tf.keras.layers.Dropout(0.2),\n",
        "    tf.keras.layers.Conv1D(64, 5, activation = 'relu'),\n",
        "    tf.keras.layers.MaxPooling1D(pool_size = 4),\n",
        "    tf.keras.layers.LSTM(64),\n",
        "    tf.keras.layers.Dense(1, activation = 'sigmoid')\n",
        "])\n",
        "\n",
        "model.compile(loss = 'binary_crossentropy',\n",
        "              optimizer = 'adam',\n",
        "              metrics = ['accuracy'])\n",
        "\n",
        "model.summary()\n",
        "\n",
        "num_epochs = 50\n",
        "\n",
        "history = model.fit(training_sequences, training_labels, \n",
        "                    epochs = num_epochs, \n",
        "                    validation_data = (test_sequences, test_labels), \n",
        "                    verbose = 1)\n",
        "\n",
        "print(\"Training Complete\")\n"
      ],
      "execution_count": 9,
      "outputs": [
        {
          "output_type": "stream",
          "text": [
            "Model: \"sequential_1\"\n",
            "_________________________________________________________________\n",
            "Layer (type)                 Output Shape              Param #   \n",
            "=================================================================\n",
            "embedding_1 (Embedding)      (None, 16, 100)           13872900  \n",
            "_________________________________________________________________\n",
            "dropout_1 (Dropout)          (None, 16, 100)           0         \n",
            "_________________________________________________________________\n",
            "conv1d_1 (Conv1D)            (None, 12, 64)            32064     \n",
            "_________________________________________________________________\n",
            "max_pooling1d_1 (MaxPooling1 (None, 3, 64)             0         \n",
            "_________________________________________________________________\n",
            "lstm_1 (LSTM)                (None, 64)                33024     \n",
            "_________________________________________________________________\n",
            "dense_1 (Dense)              (None, 1)                 65        \n",
            "=================================================================\n",
            "Total params: 13,938,053\n",
            "Trainable params: 65,153\n",
            "Non-trainable params: 13,872,900\n",
            "_________________________________________________________________\n",
            "Train on 144000 samples, validate on 16000 samples\n",
            "Epoch 1/50\n",
            "144000/144000 [==============================] - 59s 411us/sample - loss: 0.5697 - acc: 0.6973 - val_loss: 0.5288 - val_acc: 0.7291\n",
            "Epoch 2/50\n",
            "144000/144000 [==============================] - 60s 414us/sample - loss: 0.5294 - acc: 0.7307 - val_loss: 0.5174 - val_acc: 0.7408\n",
            "Epoch 3/50\n",
            "144000/144000 [==============================] - 59s 412us/sample - loss: 0.5129 - acc: 0.7434 - val_loss: 0.5139 - val_acc: 0.7420\n",
            "Epoch 4/50\n",
            "144000/144000 [==============================] - 60s 414us/sample - loss: 0.5023 - acc: 0.7503 - val_loss: 0.5126 - val_acc: 0.7446\n",
            "Epoch 5/50\n",
            "144000/144000 [==============================] - 60s 413us/sample - loss: 0.4932 - acc: 0.7564 - val_loss: 0.5026 - val_acc: 0.7527\n",
            "Epoch 6/50\n",
            "144000/144000 [==============================] - 59s 413us/sample - loss: 0.4870 - acc: 0.7608 - val_loss: 0.5005 - val_acc: 0.7561\n",
            "Epoch 7/50\n",
            "144000/144000 [==============================] - 59s 413us/sample - loss: 0.4801 - acc: 0.7649 - val_loss: 0.5033 - val_acc: 0.7529\n",
            "Epoch 8/50\n",
            "144000/144000 [==============================] - 59s 411us/sample - loss: 0.4764 - acc: 0.7674 - val_loss: 0.5043 - val_acc: 0.7561\n",
            "Epoch 9/50\n",
            "144000/144000 [==============================] - 57s 397us/sample - loss: 0.4722 - acc: 0.7693 - val_loss: 0.5078 - val_acc: 0.7571\n",
            "Epoch 10/50\n",
            "144000/144000 [==============================] - 57s 396us/sample - loss: 0.4680 - acc: 0.7724 - val_loss: 0.5012 - val_acc: 0.7546\n",
            "Epoch 11/50\n",
            "144000/144000 [==============================] - 57s 394us/sample - loss: 0.4637 - acc: 0.7739 - val_loss: 0.5050 - val_acc: 0.7544\n",
            "Epoch 12/50\n",
            "144000/144000 [==============================] - 57s 394us/sample - loss: 0.4602 - acc: 0.7774 - val_loss: 0.5045 - val_acc: 0.7548\n",
            "Epoch 13/50\n",
            "144000/144000 [==============================] - 57s 397us/sample - loss: 0.4585 - acc: 0.7788 - val_loss: 0.5011 - val_acc: 0.7558\n",
            "Epoch 14/50\n",
            "144000/144000 [==============================] - 57s 393us/sample - loss: 0.4565 - acc: 0.7788 - val_loss: 0.5084 - val_acc: 0.7512\n",
            "Epoch 15/50\n",
            "144000/144000 [==============================] - 57s 395us/sample - loss: 0.4552 - acc: 0.7802 - val_loss: 0.5071 - val_acc: 0.7540\n",
            "Epoch 16/50\n",
            "144000/144000 [==============================] - 57s 393us/sample - loss: 0.4520 - acc: 0.7830 - val_loss: 0.5047 - val_acc: 0.7534\n",
            "Epoch 17/50\n",
            "144000/144000 [==============================] - 56s 391us/sample - loss: 0.4506 - acc: 0.7838 - val_loss: 0.5049 - val_acc: 0.7560\n",
            "Epoch 18/50\n",
            "144000/144000 [==============================] - 57s 393us/sample - loss: 0.4491 - acc: 0.7847 - val_loss: 0.5067 - val_acc: 0.7523\n",
            "Epoch 19/50\n",
            "144000/144000 [==============================] - 56s 391us/sample - loss: 0.4473 - acc: 0.7850 - val_loss: 0.5105 - val_acc: 0.7514\n",
            "Epoch 20/50\n",
            "144000/144000 [==============================] - 56s 391us/sample - loss: 0.4466 - acc: 0.7862 - val_loss: 0.5032 - val_acc: 0.7566\n",
            "Epoch 21/50\n",
            "144000/144000 [==============================] - 57s 393us/sample - loss: 0.4444 - acc: 0.7869 - val_loss: 0.5090 - val_acc: 0.7551\n",
            "Epoch 22/50\n",
            "144000/144000 [==============================] - 56s 390us/sample - loss: 0.4429 - acc: 0.7885 - val_loss: 0.5129 - val_acc: 0.7559\n",
            "Epoch 23/50\n",
            "144000/144000 [==============================] - 58s 406us/sample - loss: 0.4414 - acc: 0.7881 - val_loss: 0.5169 - val_acc: 0.7512\n",
            "Epoch 24/50\n",
            "144000/144000 [==============================] - 59s 409us/sample - loss: 0.4419 - acc: 0.7874 - val_loss: 0.5094 - val_acc: 0.7506\n",
            "Epoch 25/50\n",
            "144000/144000 [==============================] - 59s 408us/sample - loss: 0.4406 - acc: 0.7894 - val_loss: 0.5107 - val_acc: 0.7548\n",
            "Epoch 26/50\n",
            "144000/144000 [==============================] - 57s 398us/sample - loss: 0.4398 - acc: 0.7900 - val_loss: 0.5151 - val_acc: 0.7478\n",
            "Epoch 27/50\n",
            "144000/144000 [==============================] - 57s 395us/sample - loss: 0.4392 - acc: 0.7906 - val_loss: 0.5164 - val_acc: 0.7506\n",
            "Epoch 28/50\n",
            "144000/144000 [==============================] - 57s 393us/sample - loss: 0.4376 - acc: 0.7909 - val_loss: 0.5128 - val_acc: 0.7505\n",
            "Epoch 29/50\n",
            "144000/144000 [==============================] - 57s 394us/sample - loss: 0.4385 - acc: 0.7912 - val_loss: 0.5176 - val_acc: 0.7506\n",
            "Epoch 30/50\n",
            "144000/144000 [==============================] - 56s 392us/sample - loss: 0.4364 - acc: 0.7925 - val_loss: 0.5132 - val_acc: 0.7551\n",
            "Epoch 31/50\n",
            "144000/144000 [==============================] - 57s 393us/sample - loss: 0.4368 - acc: 0.7911 - val_loss: 0.5114 - val_acc: 0.7538\n",
            "Epoch 32/50\n",
            "144000/144000 [==============================] - 56s 391us/sample - loss: 0.4360 - acc: 0.7925 - val_loss: 0.5130 - val_acc: 0.7550\n",
            "Epoch 33/50\n",
            "144000/144000 [==============================] - 57s 395us/sample - loss: 0.4357 - acc: 0.7925 - val_loss: 0.5160 - val_acc: 0.7553\n",
            "Epoch 34/50\n",
            "144000/144000 [==============================] - 56s 392us/sample - loss: 0.4352 - acc: 0.7928 - val_loss: 0.5139 - val_acc: 0.7531\n",
            "Epoch 35/50\n",
            "144000/144000 [==============================] - 58s 402us/sample - loss: 0.4359 - acc: 0.7924 - val_loss: 0.5165 - val_acc: 0.7508\n",
            "Epoch 36/50\n",
            "144000/144000 [==============================] - 57s 393us/sample - loss: 0.4353 - acc: 0.7921 - val_loss: 0.5187 - val_acc: 0.7530\n",
            "Epoch 37/50\n",
            "144000/144000 [==============================] - 56s 392us/sample - loss: 0.4344 - acc: 0.7927 - val_loss: 0.5165 - val_acc: 0.7491\n",
            "Epoch 38/50\n",
            "144000/144000 [==============================] - 56s 390us/sample - loss: 0.4338 - acc: 0.7935 - val_loss: 0.5166 - val_acc: 0.7511\n",
            "Epoch 39/50\n",
            "144000/144000 [==============================] - 56s 390us/sample - loss: 0.4334 - acc: 0.7934 - val_loss: 0.5147 - val_acc: 0.7489\n",
            "Epoch 40/50\n",
            "144000/144000 [==============================] - 57s 395us/sample - loss: 0.4323 - acc: 0.7947 - val_loss: 0.5183 - val_acc: 0.7525\n",
            "Epoch 41/50\n",
            "144000/144000 [==============================] - 56s 388us/sample - loss: 0.4331 - acc: 0.7944 - val_loss: 0.5234 - val_acc: 0.7501\n",
            "Epoch 42/50\n",
            "144000/144000 [==============================] - 56s 389us/sample - loss: 0.4322 - acc: 0.7944 - val_loss: 0.5167 - val_acc: 0.7511\n",
            "Epoch 43/50\n",
            "144000/144000 [==============================] - 56s 388us/sample - loss: 0.4332 - acc: 0.7936 - val_loss: 0.5234 - val_acc: 0.7494\n",
            "Epoch 44/50\n",
            "144000/144000 [==============================] - 56s 388us/sample - loss: 0.4327 - acc: 0.7933 - val_loss: 0.5201 - val_acc: 0.7494\n",
            "Epoch 45/50\n",
            "144000/144000 [==============================] - 56s 390us/sample - loss: 0.4310 - acc: 0.7938 - val_loss: 0.5209 - val_acc: 0.7505\n",
            "Epoch 46/50\n",
            "144000/144000 [==============================] - 56s 392us/sample - loss: 0.4312 - acc: 0.7947 - val_loss: 0.5151 - val_acc: 0.7483\n",
            "Epoch 47/50\n",
            "144000/144000 [==============================] - 56s 389us/sample - loss: 0.4322 - acc: 0.7946 - val_loss: 0.5258 - val_acc: 0.7507\n",
            "Epoch 48/50\n",
            "144000/144000 [==============================] - 56s 391us/sample - loss: 0.4314 - acc: 0.7961 - val_loss: 0.5243 - val_acc: 0.7482\n",
            "Epoch 49/50\n",
            "144000/144000 [==============================] - 56s 388us/sample - loss: 0.4308 - acc: 0.7964 - val_loss: 0.5232 - val_acc: 0.7509\n",
            "Epoch 50/50\n",
            "144000/144000 [==============================] - 56s 389us/sample - loss: 0.4299 - acc: 0.7951 - val_loss: 0.5178 - val_acc: 0.7472\n",
            "Training Complete\n"
          ],
          "name": "stdout"
        }
      ]
    },
    {
      "cell_type": "code",
      "metadata": {
        "id": "qxju4ItJKO8F",
        "colab_type": "code",
        "colab": {
          "base_uri": "https://localhost:8080/",
          "height": 609
        },
        "outputId": "38cd31f4-be4d-4a97-d2dc-fe57ae88a7e3"
      },
      "source": [
        "import matplotlib.image  as mpimg\n",
        "import matplotlib.pyplot as plt\n",
        "\n",
        "#-----------------------------------------------------------\n",
        "# Retrieve a list of list results on training and test data\n",
        "# sets for each training epoch\n",
        "#-----------------------------------------------------------\n",
        "acc=history.history['acc']\n",
        "val_acc=history.history['val_acc']\n",
        "loss=history.history['loss']\n",
        "val_loss=history.history['val_loss']\n",
        "\n",
        "epochs=range(len(acc)) # Get number of epochs\n",
        "\n",
        "#------------------------------------------------\n",
        "# Plot training and validation accuracy per epoch\n",
        "#------------------------------------------------\n",
        "plt.plot(epochs, acc, 'r')\n",
        "plt.plot(epochs, val_acc, 'b')\n",
        "plt.title('Training and validation accuracy')\n",
        "plt.xlabel(\"Epochs\")\n",
        "plt.ylabel(\"Accuracy\")\n",
        "plt.legend([\"Accuracy\", \"Validation Accuracy\"])\n",
        "\n",
        "plt.figure()\n",
        "\n",
        "#------------------------------------------------\n",
        "# Plot training and validation loss per epoch\n",
        "#------------------------------------------------\n",
        "plt.plot(epochs, loss, 'r')\n",
        "plt.plot(epochs, val_loss, 'b')\n",
        "plt.title('Training and validation loss')\n",
        "plt.xlabel(\"Epochs\")\n",
        "plt.ylabel(\"Loss\")\n",
        "plt.legend([\"Loss\", \"Validation Loss\"])\n",
        "\n",
        "plt.figure()\n",
        "\n",
        "\n",
        "# Expected Output\n",
        "# A chart where the validation loss does not increase sharply!"
      ],
      "execution_count": 10,
      "outputs": [
        {
          "output_type": "execute_result",
          "data": {
            "text/plain": [
              "<Figure size 432x288 with 0 Axes>"
            ]
          },
          "metadata": {
            "tags": []
          },
          "execution_count": 10
        },
        {
          "output_type": "display_data",
          "data": {
            "image/png": "[encoded data removed]",
            "text/plain": [
              "<Figure size 432x288 with 1 Axes>"
            ]
          },
          "metadata": {
            "tags": []
          }
        },
        {
          "output_type": "display_data",
          "data": {
            "image/png": "[encoded data removed]",
            "text/plain": [
              "<Figure size 432x288 with 1 Axes>"
            ]
          },
          "metadata": {
            "tags": []
          }
        },
        {
          "output_type": "display_data",
          "data": {
            "text/plain": [
              "<Figure size 432x288 with 0 Axes>"
            ]
          },
          "metadata": {
            "tags": []
          }
        }
      ]
    },
    {
      "cell_type": "code",
      "metadata": {
        "id": "HVyArTQXEUl2",
        "colab_type": "code",
        "colab": {}
      },
      "source": [
        ""
      ],
      "execution_count": 0,
      "outputs": []
    }
  ]
}
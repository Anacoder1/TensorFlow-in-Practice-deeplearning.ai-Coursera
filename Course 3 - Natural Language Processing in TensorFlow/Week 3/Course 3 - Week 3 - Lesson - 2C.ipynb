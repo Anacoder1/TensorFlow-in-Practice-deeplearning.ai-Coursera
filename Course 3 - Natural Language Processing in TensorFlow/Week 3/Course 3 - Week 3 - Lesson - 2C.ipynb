{
  "nbformat": 4,
  "nbformat_minor": 0,
  "metadata": {
    "colab": {
      "name": "Course 3 - Week 3 - Lesson 2C.ipynb",
      "provenance": [],
      "collapsed_sections": []
    },
    "kernelspec": {
      "name": "python3",
      "display_name": "Python 3"
    },
    "accelerator": "GPU"
  },
  "cells": [
    {
      "cell_type": "markdown",
      "metadata": {
        "id": "TQ3zY1YZkYMz",
        "colab_type": "text"
      },
      "source": [
        "## Lesson 2C - Sarcasm dataset with 1D Convolutional Layer"
      ]
    },
    {
      "cell_type": "code",
      "metadata": {
        "id": "MGWEBkcqkddi",
        "colab_type": "code",
        "outputId": "82b1bf4f-c3dc-493a-c85f-be4f9cfb5936",
        "colab": {
          "base_uri": "https://localhost:8080/",
          "height": 394
        }
      },
      "source": [
        "!pip install tensorflow==2.0.0-beta1"
      ],
      "execution_count": 1,
      "outputs": [
        {
          "output_type": "stream",
          "text": [
            "Requirement already satisfied: tensorflow==2.0.0-beta1 in /usr/local/lib/python3.6/dist-packages (2.0.0b1)\n",
            "Requirement already satisfied: tf-estimator-nightly<1.14.0.dev2019060502,>=1.14.0.dev2019060501 in /usr/local/lib/python3.6/dist-packages (from tensorflow==2.0.0-beta1) (1.14.0.dev2019060501)\n",
            "Requirement already satisfied: termcolor>=1.1.0 in /usr/local/lib/python3.6/dist-packages (from tensorflow==2.0.0-beta1) (1.1.0)\n",
            "Requirement already satisfied: grpcio>=1.8.6 in /usr/local/lib/python3.6/dist-packages (from tensorflow==2.0.0-beta1) (1.15.0)\n",
            "Requirement already satisfied: keras-applications>=1.0.6 in /usr/local/lib/python3.6/dist-packages (from tensorflow==2.0.0-beta1) (1.0.8)\n",
            "Requirement already satisfied: wheel>=0.26 in /usr/local/lib/python3.6/dist-packages (from tensorflow==2.0.0-beta1) (0.33.6)\n",
            "Requirement already satisfied: tb-nightly<1.14.0a20190604,>=1.14.0a20190603 in /usr/local/lib/python3.6/dist-packages (from tensorflow==2.0.0-beta1) (1.14.0a20190603)\n",
            "Requirement already satisfied: absl-py>=0.7.0 in /usr/local/lib/python3.6/dist-packages (from tensorflow==2.0.0-beta1) (0.8.0)\n",
            "Requirement already satisfied: google-pasta>=0.1.6 in /usr/local/lib/python3.6/dist-packages (from tensorflow==2.0.0-beta1) (0.1.7)\n",
            "Requirement already satisfied: astor>=0.6.0 in /usr/local/lib/python3.6/dist-packages (from tensorflow==2.0.0-beta1) (0.8.0)\n",
            "Requirement already satisfied: numpy<2.0,>=1.14.5 in /usr/local/lib/python3.6/dist-packages (from tensorflow==2.0.0-beta1) (1.16.5)\n",
            "Requirement already satisfied: wrapt>=1.11.1 in /usr/local/lib/python3.6/dist-packages (from tensorflow==2.0.0-beta1) (1.11.2)\n",
            "Requirement already satisfied: keras-preprocessing>=1.0.5 in /usr/local/lib/python3.6/dist-packages (from tensorflow==2.0.0-beta1) (1.1.0)\n",
            "Requirement already satisfied: protobuf>=3.6.1 in /usr/local/lib/python3.6/dist-packages (from tensorflow==2.0.0-beta1) (3.7.1)\n",
            "Requirement already satisfied: gast>=0.2.0 in /usr/local/lib/python3.6/dist-packages (from tensorflow==2.0.0-beta1) (0.2.2)\n",
            "Requirement already satisfied: six>=1.10.0 in /usr/local/lib/python3.6/dist-packages (from tensorflow==2.0.0-beta1) (1.12.0)\n",
            "Requirement already satisfied: h5py in /usr/local/lib/python3.6/dist-packages (from keras-applications>=1.0.6->tensorflow==2.0.0-beta1) (2.8.0)\n",
            "Requirement already satisfied: markdown>=2.6.8 in /usr/local/lib/python3.6/dist-packages (from tb-nightly<1.14.0a20190604,>=1.14.0a20190603->tensorflow==2.0.0-beta1) (3.1.1)\n",
            "Requirement already satisfied: werkzeug>=0.11.15 in /usr/local/lib/python3.6/dist-packages (from tb-nightly<1.14.0a20190604,>=1.14.0a20190603->tensorflow==2.0.0-beta1) (0.15.6)\n",
            "Requirement already satisfied: setuptools>=41.0.0 in /usr/local/lib/python3.6/dist-packages (from tb-nightly<1.14.0a20190604,>=1.14.0a20190603->tensorflow==2.0.0-beta1) (41.2.0)\n"
          ],
          "name": "stdout"
        }
      ]
    },
    {
      "cell_type": "code",
      "metadata": {
        "id": "phd-Mz1-kjRo",
        "colab_type": "code",
        "outputId": "135b53ff-1469-425e-9902-1963addec5b1",
        "colab": {
          "base_uri": "https://localhost:8080/",
          "height": 35
        }
      },
      "source": [
        "import json\n",
        "import tensorflow as tf\n",
        "\n",
        "print(tf.__version__)"
      ],
      "execution_count": 2,
      "outputs": [
        {
          "output_type": "stream",
          "text": [
            "2.0.0-beta1\n"
          ],
          "name": "stdout"
        }
      ]
    },
    {
      "cell_type": "code",
      "metadata": {
        "id": "_RwaUSfWkoIi",
        "colab_type": "code",
        "colab": {}
      },
      "source": [
        "from tensorflow.keras.preprocessing.text import Tokenizer\n",
        "from tensorflow.keras.preprocessing.sequence import pad_sequences"
      ],
      "execution_count": 0,
      "outputs": []
    },
    {
      "cell_type": "code",
      "metadata": {
        "id": "diMN1ZAWk1wG",
        "colab_type": "code",
        "outputId": "118ea78c-36f5-4c5d-bd2c-17ccb4f4b2b5",
        "colab": {
          "base_uri": "https://localhost:8080/",
          "height": 234
        }
      },
      "source": [
        "!wget --no-check-certificate \\\n",
        "    https://storage.googleapis.com/laurencemoroney-blog.appspot.com/sarcasm.json \\\n",
        "    -O /tmp/sarcasm.json"
      ],
      "execution_count": 4,
      "outputs": [
        {
          "output_type": "stream",
          "text": [
            "--2019-09-23 03:52:24--  https://storage.googleapis.com/laurencemoroney-blog.appspot.com/sarcasm.json\n",
            "Resolving storage.googleapis.com (storage.googleapis.com)... 74.125.140.128, 2a00:1450:400c:c08::80\n",
            "Connecting to storage.googleapis.com (storage.googleapis.com)|74.125.140.128|:443... connected.\n",
            "HTTP request sent, awaiting response... 200 OK\n",
            "Length: 5643545 (5.4M) [application/json]\n",
            "Saving to: ‘/tmp/sarcasm.json’\n",
            "\n",
            "\r/tmp/sarcasm.json     0%[                    ]       0  --.-KB/s               \r/tmp/sarcasm.json   100%[===================>]   5.38M  --.-KB/s    in 0.1s    \n",
            "\n",
            "2019-09-23 03:52:24 (36.4 MB/s) - ‘/tmp/sarcasm.json’ saved [5643545/5643545]\n",
            "\n"
          ],
          "name": "stdout"
        }
      ]
    },
    {
      "cell_type": "code",
      "metadata": {
        "id": "bFafsIoSk3wl",
        "colab_type": "code",
        "colab": {}
      },
      "source": [
        "vocab_size = 1000\n",
        "embedding_dim = 16\n",
        "max_length = 120\n",
        "trunc_type = 'post'\n",
        "padding_type = 'post'\n",
        "oov_tok = \"<OOV>\"\n",
        "training_size = 20000"
      ],
      "execution_count": 0,
      "outputs": []
    },
    {
      "cell_type": "code",
      "metadata": {
        "id": "LMhJn8eJlNqN",
        "colab_type": "code",
        "colab": {}
      },
      "source": [
        "with open(\"/tmp/sarcasm.json\", 'r') as f:\n",
        "  datastore = json.load(f)"
      ],
      "execution_count": 0,
      "outputs": []
    },
    {
      "cell_type": "code",
      "metadata": {
        "id": "qQPv4tZblS6m",
        "colab_type": "code",
        "colab": {}
      },
      "source": [
        "sentences = []\n",
        "labels = []\n",
        "urls = []\n",
        "\n",
        "for item in datastore:\n",
        "  sentences.append(item['headline'])\n",
        "  labels.append(item['is_sarcastic'])"
      ],
      "execution_count": 0,
      "outputs": []
    },
    {
      "cell_type": "code",
      "metadata": {
        "id": "ISJYfvtVlsZ7",
        "colab_type": "code",
        "colab": {}
      },
      "source": [
        "training_sentences = sentences[0 : training_size]\n",
        "testing_sentences = sentences[training_size :]\n",
        "\n",
        "training_labels = labels[0 : training_size]\n",
        "testing_labels = labels[training_size : ]"
      ],
      "execution_count": 0,
      "outputs": []
    },
    {
      "cell_type": "code",
      "metadata": {
        "id": "ql1f0DNgQhf_",
        "colab_type": "code",
        "colab": {}
      },
      "source": [
        "tokenizer = Tokenizer(num_words = vocab_size,\n",
        "                      oov_token = oov_tok)\n",
        "\n",
        "tokenizer.fit_on_texts(training_sentences)\n",
        "\n",
        "word_index = tokenizer.word_index"
      ],
      "execution_count": 0,
      "outputs": []
    },
    {
      "cell_type": "code",
      "metadata": {
        "id": "noJzQVFxQ0aW",
        "colab_type": "code",
        "colab": {}
      },
      "source": [
        "training_sequences = tokenizer.texts_to_sequences(training_sentences)\n",
        "training_padded = pad_sequences(training_sequences,\n",
        "                                maxlen = max_length,\n",
        "                                padding = padding_type,\n",
        "                                truncating = trunc_type)\n",
        "\n",
        "testing_sequences = tokenizer.texts_to_sequences(testing_sentences)\n",
        "testing_padded = pad_sequences(testing_sequences, \n",
        "                               maxlen = max_length,\n",
        "                               padding = padding_type,\n",
        "                               truncating = trunc_type)"
      ],
      "execution_count": 0,
      "outputs": []
    },
    {
      "cell_type": "code",
      "metadata": {
        "id": "PRmgks6jRTTP",
        "colab_type": "code",
        "colab": {}
      },
      "source": [
        "model = tf.keras.Sequential([\n",
        "    tf.keras.layers.Embedding(vocab_size, embedding_dim,\n",
        "                              input_length = max_length),\n",
        "    tf.keras.layers.Conv1D(128, 5, activation = 'relu'),\n",
        "    tf.keras.layers.GlobalMaxPooling1D(),\n",
        "    tf.keras.layers.Dense(24, activation = 'relu'),\n",
        "    tf.keras.layers.Dense(1, activation = 'sigmoid')\n",
        "])"
      ],
      "execution_count": 0,
      "outputs": []
    },
    {
      "cell_type": "code",
      "metadata": {
        "id": "Hz3xuojDRwDs",
        "colab_type": "code",
        "colab": {
          "base_uri": "https://localhost:8080/",
          "height": 339
        },
        "outputId": "cd6a2163-a10c-4c9c-cb9c-93040ae374d3"
      },
      "source": [
        "model.compile(loss = 'binary_crossentropy',\n",
        "              optimizer = 'adam',\n",
        "              metrics = ['accuracy'])\n",
        "\n",
        "model.summary()"
      ],
      "execution_count": 12,
      "outputs": [
        {
          "output_type": "stream",
          "text": [
            "Model: \"sequential\"\n",
            "_________________________________________________________________\n",
            "Layer (type)                 Output Shape              Param #   \n",
            "=================================================================\n",
            "embedding (Embedding)        (None, 120, 16)           16000     \n",
            "_________________________________________________________________\n",
            "conv1d (Conv1D)              (None, 116, 128)          10368     \n",
            "_________________________________________________________________\n",
            "global_max_pooling1d (Global (None, 128)               0         \n",
            "_________________________________________________________________\n",
            "dense (Dense)                (None, 24)                3096      \n",
            "_________________________________________________________________\n",
            "dense_1 (Dense)              (None, 1)                 25        \n",
            "=================================================================\n",
            "Total params: 29,489\n",
            "Trainable params: 29,489\n",
            "Non-trainable params: 0\n",
            "_________________________________________________________________\n"
          ],
          "name": "stdout"
        }
      ]
    },
    {
      "cell_type": "code",
      "metadata": {
        "id": "-k6tS1YKR9ek",
        "colab_type": "code",
        "colab": {
          "base_uri": "https://localhost:8080/",
          "height": 1000
        },
        "outputId": "e865e84b-a9a8-4777-8b66-5fe8099d81cd"
      },
      "source": [
        "num_epochs = 50\n",
        "\n",
        "history = model.fit(training_padded, training_labels,\n",
        "                    epochs = num_epochs,\n",
        "                    validation_data = (testing_padded, testing_labels),\n",
        "                    verbose = 1)"
      ],
      "execution_count": 13,
      "outputs": [
        {
          "output_type": "stream",
          "text": [
            "WARNING:tensorflow:From /usr/local/lib/python3.6/dist-packages/tensorflow/python/ops/math_grad.py:1250: add_dispatch_support.<locals>.wrapper (from tensorflow.python.ops.array_ops) is deprecated and will be removed in a future version.\n",
            "Instructions for updating:\n",
            "Use tf.where in 2.0, which has the same broadcast rule as np.where\n",
            "Train on 20000 samples, validate on 6709 samples\n",
            "Epoch 1/50\n",
            "20000/20000 [==============================] - 9s 468us/sample - loss: 0.4773 - accuracy: 0.7538 - val_loss: 0.4067 - val_accuracy: 0.8146\n",
            "Epoch 2/50\n",
            "20000/20000 [==============================] - 9s 462us/sample - loss: 0.3621 - accuracy: 0.8363 - val_loss: 0.3908 - val_accuracy: 0.8223\n",
            "Epoch 3/50\n",
            "20000/20000 [==============================] - 9s 466us/sample - loss: 0.3218 - accuracy: 0.8592 - val_loss: 0.3890 - val_accuracy: 0.8235\n",
            "Epoch 4/50\n",
            "20000/20000 [==============================] - 9s 467us/sample - loss: 0.2882 - accuracy: 0.8741 - val_loss: 0.3948 - val_accuracy: 0.8258\n",
            "Epoch 5/50\n",
            "20000/20000 [==============================] - 9s 462us/sample - loss: 0.2576 - accuracy: 0.8896 - val_loss: 0.4228 - val_accuracy: 0.8201\n",
            "Epoch 6/50\n",
            "20000/20000 [==============================] - 9s 468us/sample - loss: 0.2252 - accuracy: 0.9075 - val_loss: 0.4491 - val_accuracy: 0.8137\n",
            "Epoch 7/50\n",
            "20000/20000 [==============================] - 9s 470us/sample - loss: 0.1946 - accuracy: 0.9230 - val_loss: 0.4999 - val_accuracy: 0.8134\n",
            "Epoch 8/50\n",
            "20000/20000 [==============================] - 10s 477us/sample - loss: 0.1621 - accuracy: 0.9381 - val_loss: 0.5423 - val_accuracy: 0.8111\n",
            "Epoch 9/50\n",
            "20000/20000 [==============================] - 9s 468us/sample - loss: 0.1351 - accuracy: 0.9517 - val_loss: 0.5961 - val_accuracy: 0.8064\n",
            "Epoch 10/50\n",
            "20000/20000 [==============================] - 9s 468us/sample - loss: 0.1130 - accuracy: 0.9592 - val_loss: 0.6576 - val_accuracy: 0.7998\n",
            "Epoch 11/50\n",
            "20000/20000 [==============================] - 9s 468us/sample - loss: 0.0904 - accuracy: 0.9685 - val_loss: 0.7757 - val_accuracy: 0.8006\n",
            "Epoch 12/50\n",
            "20000/20000 [==============================] - 9s 467us/sample - loss: 0.0773 - accuracy: 0.9736 - val_loss: 0.8374 - val_accuracy: 0.7955\n",
            "Epoch 13/50\n",
            "20000/20000 [==============================] - 9s 471us/sample - loss: 0.0680 - accuracy: 0.9765 - val_loss: 0.9100 - val_accuracy: 0.7852\n",
            "Epoch 14/50\n",
            "20000/20000 [==============================] - 9s 468us/sample - loss: 0.0614 - accuracy: 0.9779 - val_loss: 0.9844 - val_accuracy: 0.7949\n",
            "Epoch 15/50\n",
            "20000/20000 [==============================] - 9s 470us/sample - loss: 0.0541 - accuracy: 0.9805 - val_loss: 1.0310 - val_accuracy: 0.7921\n",
            "Epoch 16/50\n",
            "20000/20000 [==============================] - 9s 469us/sample - loss: 0.0487 - accuracy: 0.9825 - val_loss: 1.0955 - val_accuracy: 0.7927\n",
            "Epoch 17/50\n",
            "20000/20000 [==============================] - 9s 468us/sample - loss: 0.0430 - accuracy: 0.9840 - val_loss: 1.1814 - val_accuracy: 0.7837\n",
            "Epoch 18/50\n",
            "20000/20000 [==============================] - 9s 468us/sample - loss: 0.0405 - accuracy: 0.9847 - val_loss: 1.1821 - val_accuracy: 0.7895\n",
            "Epoch 19/50\n",
            "20000/20000 [==============================] - 9s 468us/sample - loss: 0.0380 - accuracy: 0.9854 - val_loss: 1.2994 - val_accuracy: 0.7885\n",
            "Epoch 20/50\n",
            "20000/20000 [==============================] - 9s 471us/sample - loss: 0.0375 - accuracy: 0.9859 - val_loss: 1.3460 - val_accuracy: 0.7863\n",
            "Epoch 21/50\n",
            "20000/20000 [==============================] - 9s 468us/sample - loss: 0.0336 - accuracy: 0.9874 - val_loss: 1.4089 - val_accuracy: 0.7815\n",
            "Epoch 22/50\n",
            "20000/20000 [==============================] - 9s 469us/sample - loss: 0.0321 - accuracy: 0.9873 - val_loss: 1.4773 - val_accuracy: 0.7788\n",
            "Epoch 23/50\n",
            "20000/20000 [==============================] - 9s 468us/sample - loss: 0.0322 - accuracy: 0.9866 - val_loss: 1.5249 - val_accuracy: 0.7854\n",
            "Epoch 24/50\n",
            "20000/20000 [==============================] - 9s 468us/sample - loss: 0.0309 - accuracy: 0.9876 - val_loss: 1.5447 - val_accuracy: 0.7845\n",
            "Epoch 25/50\n",
            "20000/20000 [==============================] - 9s 470us/sample - loss: 0.0330 - accuracy: 0.9862 - val_loss: 1.5396 - val_accuracy: 0.7827\n",
            "Epoch 26/50\n",
            "20000/20000 [==============================] - 9s 474us/sample - loss: 0.0307 - accuracy: 0.9874 - val_loss: 1.5690 - val_accuracy: 0.7830\n",
            "Epoch 27/50\n",
            "20000/20000 [==============================] - 10s 482us/sample - loss: 0.0250 - accuracy: 0.9900 - val_loss: 1.6574 - val_accuracy: 0.7763\n",
            "Epoch 28/50\n",
            "20000/20000 [==============================] - 9s 474us/sample - loss: 0.0217 - accuracy: 0.9908 - val_loss: 1.6328 - val_accuracy: 0.7900\n",
            "Epoch 29/50\n",
            "20000/20000 [==============================] - 9s 473us/sample - loss: 0.0248 - accuracy: 0.9890 - val_loss: 1.6327 - val_accuracy: 0.7861\n",
            "Epoch 30/50\n",
            "20000/20000 [==============================] - 9s 471us/sample - loss: 0.0309 - accuracy: 0.9859 - val_loss: 1.6664 - val_accuracy: 0.7861\n",
            "Epoch 31/50\n",
            "20000/20000 [==============================] - 9s 472us/sample - loss: 0.0266 - accuracy: 0.9884 - val_loss: 1.7254 - val_accuracy: 0.7855\n",
            "Epoch 32/50\n",
            "20000/20000 [==============================] - 9s 471us/sample - loss: 0.0210 - accuracy: 0.9905 - val_loss: 1.7191 - val_accuracy: 0.7824\n",
            "Epoch 33/50\n",
            "20000/20000 [==============================] - 9s 474us/sample - loss: 0.0248 - accuracy: 0.9895 - val_loss: 1.7043 - val_accuracy: 0.7795\n",
            "Epoch 34/50\n",
            "20000/20000 [==============================] - 9s 470us/sample - loss: 0.0249 - accuracy: 0.9897 - val_loss: 1.8416 - val_accuracy: 0.7773\n",
            "Epoch 35/50\n",
            "20000/20000 [==============================] - 9s 474us/sample - loss: 0.0261 - accuracy: 0.9891 - val_loss: 1.7976 - val_accuracy: 0.7748\n",
            "Epoch 36/50\n",
            "20000/20000 [==============================] - 10s 476us/sample - loss: 0.0237 - accuracy: 0.9896 - val_loss: 1.7461 - val_accuracy: 0.7886\n",
            "Epoch 37/50\n",
            "20000/20000 [==============================] - 9s 473us/sample - loss: 0.0244 - accuracy: 0.9894 - val_loss: 1.7832 - val_accuracy: 0.7860\n",
            "Epoch 38/50\n",
            "20000/20000 [==============================] - 9s 474us/sample - loss: 0.0192 - accuracy: 0.9916 - val_loss: 1.8938 - val_accuracy: 0.7819\n",
            "Epoch 39/50\n",
            "20000/20000 [==============================] - 9s 473us/sample - loss: 0.0187 - accuracy: 0.9909 - val_loss: 1.8769 - val_accuracy: 0.7839\n",
            "Epoch 40/50\n",
            "20000/20000 [==============================] - 10s 482us/sample - loss: 0.0233 - accuracy: 0.9897 - val_loss: 1.9191 - val_accuracy: 0.7818\n",
            "Epoch 41/50\n",
            "20000/20000 [==============================] - 9s 473us/sample - loss: 0.0275 - accuracy: 0.9879 - val_loss: 1.8414 - val_accuracy: 0.7852\n",
            "Epoch 42/50\n",
            "20000/20000 [==============================] - 9s 472us/sample - loss: 0.0208 - accuracy: 0.9905 - val_loss: 1.8625 - val_accuracy: 0.7837\n",
            "Epoch 43/50\n",
            "20000/20000 [==============================] - 9s 473us/sample - loss: 0.0179 - accuracy: 0.9918 - val_loss: 1.9258 - val_accuracy: 0.7795\n",
            "Epoch 44/50\n",
            "20000/20000 [==============================] - 9s 473us/sample - loss: 0.0170 - accuracy: 0.9926 - val_loss: 1.9303 - val_accuracy: 0.7857\n",
            "Epoch 45/50\n",
            "20000/20000 [==============================] - 10s 478us/sample - loss: 0.0201 - accuracy: 0.9912 - val_loss: 1.9473 - val_accuracy: 0.7867\n",
            "Epoch 46/50\n",
            "20000/20000 [==============================] - 9s 474us/sample - loss: 0.0257 - accuracy: 0.9894 - val_loss: 1.9197 - val_accuracy: 0.7901\n",
            "Epoch 47/50\n",
            "20000/20000 [==============================] - 10s 476us/sample - loss: 0.0267 - accuracy: 0.9890 - val_loss: 1.9475 - val_accuracy: 0.7891\n",
            "Epoch 48/50\n",
            "20000/20000 [==============================] - 10s 475us/sample - loss: 0.0181 - accuracy: 0.9918 - val_loss: 1.9754 - val_accuracy: 0.7861\n",
            "Epoch 49/50\n",
            "20000/20000 [==============================] - 10s 476us/sample - loss: 0.0143 - accuracy: 0.9932 - val_loss: 2.0012 - val_accuracy: 0.7819\n",
            "Epoch 50/50\n",
            "20000/20000 [==============================] - 9s 472us/sample - loss: 0.0201 - accuracy: 0.9916 - val_loss: 2.0400 - val_accuracy: 0.7785\n"
          ],
          "name": "stdout"
        }
      ]
    },
    {
      "cell_type": "code",
      "metadata": {
        "id": "l6UeJO0uSQtD",
        "colab_type": "code",
        "colab": {}
      },
      "source": [
        "import matplotlib.pyplot as plt\n",
        "\n",
        "def plot_graphs(history, string):\n",
        "  plt.plot(history.history[string])\n",
        "  plt.plot(history.history['val_' + string])\n",
        "  plt.xlabel(\"Epochs\")\n",
        "  plt.ylabel(string)\n",
        "  plt.legend([string, 'val_' + string])\n",
        "  plt.show()"
      ],
      "execution_count": 0,
      "outputs": []
    },
    {
      "cell_type": "code",
      "metadata": {
        "id": "XxnFxIKZUUep",
        "colab_type": "code",
        "colab": {
          "base_uri": "https://localhost:8080/",
          "height": 283
        },
        "outputId": "dd3d5ad6-d893-4be5-e9d8-20780c960ea4"
      },
      "source": [
        "plot_graphs(history, 'accuracy')"
      ],
      "execution_count": 15,
      "outputs": [
        {
          "output_type": "display_data",
          "data": {
            "image/png": "[encoded data removed]",
            "text/plain": [
              "<Figure size 432x288 with 1 Axes>"
            ]
          },
          "metadata": {
            "tags": []
          }
        }
      ]
    },
    {
      "cell_type": "code",
      "metadata": {
        "id": "qOOnT9dHUbdR",
        "colab_type": "code",
        "colab": {
          "base_uri": "https://localhost:8080/",
          "height": 283
        },
        "outputId": "29605ef1-f75b-485b-e1cd-1ade9a44a174"
      },
      "source": [
        "plot_graphs(history, 'loss')"
      ],
      "execution_count": 16,
      "outputs": [
        {
          "output_type": "display_data",
          "data": {
            "image/png": "[encoded data removed]",
            "text/plain": [
              "<Figure size 432x288 with 1 Axes>"
            ]
          },
          "metadata": {
            "tags": []
          }
        }
      ]
    },
    {
      "cell_type": "code",
      "metadata": {
        "id": "ClNoGQ6eUfM9",
        "colab_type": "code",
        "colab": {}
      },
      "source": [
        "model.save(\"C3_W3_L2c.h5\")"
      ],
      "execution_count": 0,
      "outputs": []
    }
  ]
}
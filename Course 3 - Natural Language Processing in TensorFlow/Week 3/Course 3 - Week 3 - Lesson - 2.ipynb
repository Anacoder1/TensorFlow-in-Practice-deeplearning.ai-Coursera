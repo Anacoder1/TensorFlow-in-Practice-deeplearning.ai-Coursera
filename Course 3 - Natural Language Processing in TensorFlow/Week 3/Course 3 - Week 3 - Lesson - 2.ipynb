{
  "nbformat": 4,
  "nbformat_minor": 0,
  "metadata": {
    "colab": {
      "name": "Course 3 - Week 3 - Lesson 2.ipynb",
      "provenance": [],
      "collapsed_sections": []
    },
    "kernelspec": {
      "name": "python3",
      "display_name": "Python 3"
    },
    "accelerator": "GPU"
  },
  "cells": [
    {
      "cell_type": "markdown",
      "metadata": {
        "id": "PzuJNArRWiPc",
        "colab_type": "text"
      },
      "source": [
        "## Lesson 2 - Sarcasm dataset with Bidirectional LSTM"
      ]
    },
    {
      "cell_type": "code",
      "metadata": {
        "id": "iCRcizsFTMOa",
        "colab_type": "code",
        "colab": {
          "base_uri": "https://localhost:8080/",
          "height": 394
        },
        "outputId": "d669f158-e07e-4ede-b024-8882a1840fb5"
      },
      "source": [
        "!pip install tensorflow==2.0.0-beta1"
      ],
      "execution_count": 1,
      "outputs": [
        {
          "output_type": "stream",
          "text": [
            "Requirement already satisfied: tensorflow==2.0.0-beta1 in /usr/local/lib/python3.6/dist-packages (2.0.0b1)\n",
            "Requirement already satisfied: grpcio>=1.8.6 in /usr/local/lib/python3.6/dist-packages (from tensorflow==2.0.0-beta1) (1.15.0)\n",
            "Requirement already satisfied: google-pasta>=0.1.6 in /usr/local/lib/python3.6/dist-packages (from tensorflow==2.0.0-beta1) (0.1.7)\n",
            "Requirement already satisfied: keras-preprocessing>=1.0.5 in /usr/local/lib/python3.6/dist-packages (from tensorflow==2.0.0-beta1) (1.1.0)\n",
            "Requirement already satisfied: six>=1.10.0 in /usr/local/lib/python3.6/dist-packages (from tensorflow==2.0.0-beta1) (1.12.0)\n",
            "Requirement already satisfied: gast>=0.2.0 in /usr/local/lib/python3.6/dist-packages (from tensorflow==2.0.0-beta1) (0.2.2)\n",
            "Requirement already satisfied: tb-nightly<1.14.0a20190604,>=1.14.0a20190603 in /usr/local/lib/python3.6/dist-packages (from tensorflow==2.0.0-beta1) (1.14.0a20190603)\n",
            "Requirement already satisfied: termcolor>=1.1.0 in /usr/local/lib/python3.6/dist-packages (from tensorflow==2.0.0-beta1) (1.1.0)\n",
            "Requirement already satisfied: numpy<2.0,>=1.14.5 in /usr/local/lib/python3.6/dist-packages (from tensorflow==2.0.0-beta1) (1.16.5)\n",
            "Requirement already satisfied: astor>=0.6.0 in /usr/local/lib/python3.6/dist-packages (from tensorflow==2.0.0-beta1) (0.8.0)\n",
            "Requirement already satisfied: tf-estimator-nightly<1.14.0.dev2019060502,>=1.14.0.dev2019060501 in /usr/local/lib/python3.6/dist-packages (from tensorflow==2.0.0-beta1) (1.14.0.dev2019060501)\n",
            "Requirement already satisfied: absl-py>=0.7.0 in /usr/local/lib/python3.6/dist-packages (from tensorflow==2.0.0-beta1) (0.8.0)\n",
            "Requirement already satisfied: protobuf>=3.6.1 in /usr/local/lib/python3.6/dist-packages (from tensorflow==2.0.0-beta1) (3.7.1)\n",
            "Requirement already satisfied: wrapt>=1.11.1 in /usr/local/lib/python3.6/dist-packages (from tensorflow==2.0.0-beta1) (1.11.2)\n",
            "Requirement already satisfied: wheel>=0.26 in /usr/local/lib/python3.6/dist-packages (from tensorflow==2.0.0-beta1) (0.33.6)\n",
            "Requirement already satisfied: keras-applications>=1.0.6 in /usr/local/lib/python3.6/dist-packages (from tensorflow==2.0.0-beta1) (1.0.8)\n",
            "Requirement already satisfied: markdown>=2.6.8 in /usr/local/lib/python3.6/dist-packages (from tb-nightly<1.14.0a20190604,>=1.14.0a20190603->tensorflow==2.0.0-beta1) (3.1.1)\n",
            "Requirement already satisfied: werkzeug>=0.11.15 in /usr/local/lib/python3.6/dist-packages (from tb-nightly<1.14.0a20190604,>=1.14.0a20190603->tensorflow==2.0.0-beta1) (0.15.6)\n",
            "Requirement already satisfied: setuptools>=41.0.0 in /usr/local/lib/python3.6/dist-packages (from tb-nightly<1.14.0a20190604,>=1.14.0a20190603->tensorflow==2.0.0-beta1) (41.2.0)\n",
            "Requirement already satisfied: h5py in /usr/local/lib/python3.6/dist-packages (from keras-applications>=1.0.6->tensorflow==2.0.0-beta1) (2.8.0)\n"
          ],
          "name": "stdout"
        }
      ]
    },
    {
      "cell_type": "code",
      "metadata": {
        "id": "Ua32MJeZTdmW",
        "colab_type": "code",
        "colab": {
          "base_uri": "https://localhost:8080/",
          "height": 35
        },
        "outputId": "cad2ee13-9482-4749-989b-c393707b56e7"
      },
      "source": [
        "import json\n",
        "import tensorflow as tf\n",
        "\n",
        "print(tf.__version__)"
      ],
      "execution_count": 2,
      "outputs": [
        {
          "output_type": "stream",
          "text": [
            "2.0.0-beta1\n"
          ],
          "name": "stdout"
        }
      ]
    },
    {
      "cell_type": "code",
      "metadata": {
        "id": "5r4jOL1UTjYo",
        "colab_type": "code",
        "colab": {}
      },
      "source": [
        "from tensorflow.keras.preprocessing.text import Tokenizer\n",
        "from tensorflow.keras.preprocessing.sequence import pad_sequences"
      ],
      "execution_count": 0,
      "outputs": []
    },
    {
      "cell_type": "code",
      "metadata": {
        "id": "bj11YgYAUFud",
        "colab_type": "code",
        "colab": {
          "base_uri": "https://localhost:8080/",
          "height": 234
        },
        "outputId": "d4f3665e-c040-4b35-c022-c89a8cac23bc"
      },
      "source": [
        "!wget --no-check-certificate \\\n",
        "    https://storage.googleapis.com/laurencemoroney-blog.appspot.com/sarcasm.json \\\n",
        "    -O /tmp/sarcasm.json"
      ],
      "execution_count": 4,
      "outputs": [
        {
          "output_type": "stream",
          "text": [
            "--2019-09-22 18:51:36--  https://storage.googleapis.com/laurencemoroney-blog.appspot.com/sarcasm.json\n",
            "Resolving storage.googleapis.com (storage.googleapis.com)... 74.125.140.128, 2a00:1450:400c:c0b::80\n",
            "Connecting to storage.googleapis.com (storage.googleapis.com)|74.125.140.128|:443... connected.\n",
            "HTTP request sent, awaiting response... 200 OK\n",
            "Length: 5643545 (5.4M) [application/json]\n",
            "Saving to: ‘/tmp/sarcasm.json’\n",
            "\n",
            "\r/tmp/sarcasm.json     0%[                    ]       0  --.-KB/s               \r/tmp/sarcasm.json   100%[===================>]   5.38M  --.-KB/s    in 0.03s   \n",
            "\n",
            "2019-09-22 18:51:36 (173 MB/s) - ‘/tmp/sarcasm.json’ saved [5643545/5643545]\n",
            "\n"
          ],
          "name": "stdout"
        }
      ]
    },
    {
      "cell_type": "code",
      "metadata": {
        "id": "cVe5ZBDkUI8W",
        "colab_type": "code",
        "colab": {}
      },
      "source": [
        "vocab_size = 1000\n",
        "embedding_dim = 16\n",
        "max_length = 120\n",
        "trunc_type = 'post'\n",
        "padding_type = 'post'\n",
        "oov_tok = \"<OOV>\"\n",
        "training_size = 20000"
      ],
      "execution_count": 0,
      "outputs": []
    },
    {
      "cell_type": "code",
      "metadata": {
        "id": "OF-l5yXOUbj-",
        "colab_type": "code",
        "colab": {}
      },
      "source": [
        "with open(\"/tmp/sarcasm.json\", 'r') as f:\n",
        "  datastore = json.load(f)"
      ],
      "execution_count": 0,
      "outputs": []
    },
    {
      "cell_type": "code",
      "metadata": {
        "id": "rD02wOyeUgbh",
        "colab_type": "code",
        "colab": {}
      },
      "source": [
        "sentences = []\n",
        "labels = []\n",
        "urls = []\n",
        "\n",
        "for item in datastore:\n",
        "  sentences.append(item['headline'])\n",
        "  labels.append(item['is_sarcastic'])"
      ],
      "execution_count": 0,
      "outputs": []
    },
    {
      "cell_type": "code",
      "metadata": {
        "id": "ZPkq09uEU3le",
        "colab_type": "code",
        "colab": {}
      },
      "source": [
        "training_sentences = sentences[0 : training_size]\n",
        "testing_sentences = sentences[training_size : ]\n",
        "\n",
        "training_labels = labels[0 : training_size]\n",
        "testing_labels = labels[training_size : ]"
      ],
      "execution_count": 0,
      "outputs": []
    },
    {
      "cell_type": "code",
      "metadata": {
        "id": "l9YB6MIcVF_W",
        "colab_type": "code",
        "colab": {}
      },
      "source": [
        "tokenizer = Tokenizer(num_words = vocab_size,\n",
        "                      oov_token = oov_tok)\n",
        "\n",
        "tokenizer.fit_on_texts(training_sentences)\n",
        "\n",
        "word_index = tokenizer.word_index"
      ],
      "execution_count": 0,
      "outputs": []
    },
    {
      "cell_type": "code",
      "metadata": {
        "id": "xyzV26WuVkRa",
        "colab_type": "code",
        "colab": {}
      },
      "source": [
        "training_sequences = tokenizer.texts_to_sequences(training_sentences)\n",
        "training_padded = pad_sequences(training_sequences,\n",
        "                                maxlen = max_length,\n",
        "                                padding = padding_type,\n",
        "                                truncating = trunc_type)\n",
        "\n",
        "testing_sequences = tokenizer.texts_to_sequences(testing_sentences)\n",
        "testing_padded = pad_sequences(testing_sequences,\n",
        "                               maxlen = max_length,\n",
        "                               padding = padding_type,\n",
        "                               truncating = trunc_type)"
      ],
      "execution_count": 0,
      "outputs": []
    },
    {
      "cell_type": "code",
      "metadata": {
        "id": "59K2eUcqWLT_",
        "colab_type": "code",
        "colab": {}
      },
      "source": [
        "model = tf.keras.Sequential([\n",
        "    tf.keras.layers.Embedding(vocab_size, embedding_dim,\n",
        "                              input_length = max_length),\n",
        "    tf.keras.layers.Bidirectional(tf.keras.layers.LSTM(32)),\n",
        "    tf.keras.layers.Dense(24, activation = 'relu'),\n",
        "    tf.keras.layers.Dense(1, activation = 'sigmoid')\n",
        "])"
      ],
      "execution_count": 0,
      "outputs": []
    },
    {
      "cell_type": "code",
      "metadata": {
        "id": "SS4FfzyJWq1X",
        "colab_type": "code",
        "colab": {
          "base_uri": "https://localhost:8080/",
          "height": 303
        },
        "outputId": "8e88f7a6-94b9-45f9-e65a-1f2a60c1be93"
      },
      "source": [
        "model.compile(loss = 'binary_crossentropy',\n",
        "              optimizer = 'adam',\n",
        "              metrics = ['accuracy'])\n",
        "\n",
        "model.summary()"
      ],
      "execution_count": 12,
      "outputs": [
        {
          "output_type": "stream",
          "text": [
            "Model: \"sequential\"\n",
            "_________________________________________________________________\n",
            "Layer (type)                 Output Shape              Param #   \n",
            "=================================================================\n",
            "embedding (Embedding)        (None, 120, 16)           16000     \n",
            "_________________________________________________________________\n",
            "bidirectional (Bidirectional (None, 64)                12544     \n",
            "_________________________________________________________________\n",
            "dense (Dense)                (None, 24)                1560      \n",
            "_________________________________________________________________\n",
            "dense_1 (Dense)              (None, 1)                 25        \n",
            "=================================================================\n",
            "Total params: 30,129\n",
            "Trainable params: 30,129\n",
            "Non-trainable params: 0\n",
            "_________________________________________________________________\n"
          ],
          "name": "stdout"
        }
      ]
    },
    {
      "cell_type": "code",
      "metadata": {
        "id": "mrr6NSmQXB0n",
        "colab_type": "code",
        "colab": {
          "base_uri": "https://localhost:8080/",
          "height": 1000
        },
        "outputId": "661fbcc6-8f1b-4ce6-e212-c5e093a5c5af"
      },
      "source": [
        "num_epochs = 50\n",
        "\n",
        "history = model.fit(training_padded, training_labels,\n",
        "                    epochs = num_epochs,\n",
        "                    validation_data = (testing_padded, testing_labels),\n",
        "                    verbose = 1)"
      ],
      "execution_count": 13,
      "outputs": [
        {
          "output_type": "stream",
          "text": [
            "WARNING:tensorflow:From /usr/local/lib/python3.6/dist-packages/tensorflow/python/ops/math_grad.py:1250: add_dispatch_support.<locals>.wrapper (from tensorflow.python.ops.array_ops) is deprecated and will be removed in a future version.\n",
            "Instructions for updating:\n",
            "Use tf.where in 2.0, which has the same broadcast rule as np.where\n",
            "Train on 20000 samples, validate on 6709 samples\n",
            "Epoch 1/50\n",
            "20000/20000 [==============================] - 62s 3ms/sample - loss: 0.4589 - accuracy: 0.7676 - val_loss: 0.3880 - val_accuracy: 0.8219\n",
            "Epoch 2/50\n",
            "20000/20000 [==============================] - 61s 3ms/sample - loss: 0.3542 - accuracy: 0.8371 - val_loss: 0.3717 - val_accuracy: 0.8295\n",
            "Epoch 3/50\n",
            "20000/20000 [==============================] - 62s 3ms/sample - loss: 0.3259 - accuracy: 0.8536 - val_loss: 0.3748 - val_accuracy: 0.8328\n",
            "Epoch 4/50\n",
            "20000/20000 [==============================] - 61s 3ms/sample - loss: 0.3080 - accuracy: 0.8622 - val_loss: 0.3775 - val_accuracy: 0.8286\n",
            "Epoch 5/50\n",
            "20000/20000 [==============================] - 61s 3ms/sample - loss: 0.2974 - accuracy: 0.8686 - val_loss: 0.3770 - val_accuracy: 0.8341\n",
            "Epoch 6/50\n",
            "20000/20000 [==============================] - 60s 3ms/sample - loss: 0.2874 - accuracy: 0.8718 - val_loss: 0.3907 - val_accuracy: 0.8308\n",
            "Epoch 7/50\n",
            "20000/20000 [==============================] - 61s 3ms/sample - loss: 0.2793 - accuracy: 0.8779 - val_loss: 0.3836 - val_accuracy: 0.8281\n",
            "Epoch 8/50\n",
            "20000/20000 [==============================] - 61s 3ms/sample - loss: 0.2721 - accuracy: 0.8817 - val_loss: 0.3895 - val_accuracy: 0.8298\n",
            "Epoch 9/50\n",
            "20000/20000 [==============================] - 61s 3ms/sample - loss: 0.2654 - accuracy: 0.8853 - val_loss: 0.3993 - val_accuracy: 0.8307\n",
            "Epoch 10/50\n",
            "20000/20000 [==============================] - 61s 3ms/sample - loss: 0.2594 - accuracy: 0.8883 - val_loss: 0.4013 - val_accuracy: 0.8284\n",
            "Epoch 11/50\n",
            "20000/20000 [==============================] - 61s 3ms/sample - loss: 0.2558 - accuracy: 0.8899 - val_loss: 0.4081 - val_accuracy: 0.8252\n",
            "Epoch 12/50\n",
            "20000/20000 [==============================] - 61s 3ms/sample - loss: 0.2471 - accuracy: 0.8946 - val_loss: 0.4196 - val_accuracy: 0.8229\n",
            "Epoch 13/50\n",
            "20000/20000 [==============================] - 61s 3ms/sample - loss: 0.2416 - accuracy: 0.8971 - val_loss: 0.4304 - val_accuracy: 0.8256\n",
            "Epoch 14/50\n",
            "20000/20000 [==============================] - 61s 3ms/sample - loss: 0.2350 - accuracy: 0.9012 - val_loss: 0.4435 - val_accuracy: 0.8244\n",
            "Epoch 15/50\n",
            "20000/20000 [==============================] - 61s 3ms/sample - loss: 0.2297 - accuracy: 0.9024 - val_loss: 0.4256 - val_accuracy: 0.8211\n",
            "Epoch 16/50\n",
            "20000/20000 [==============================] - 61s 3ms/sample - loss: 0.2230 - accuracy: 0.9068 - val_loss: 0.4728 - val_accuracy: 0.8204\n",
            "Epoch 17/50\n",
            "20000/20000 [==============================] - 62s 3ms/sample - loss: 0.2189 - accuracy: 0.9079 - val_loss: 0.4725 - val_accuracy: 0.8217\n",
            "Epoch 18/50\n",
            "20000/20000 [==============================] - 61s 3ms/sample - loss: 0.2109 - accuracy: 0.9123 - val_loss: 0.4901 - val_accuracy: 0.8185\n",
            "Epoch 19/50\n",
            "20000/20000 [==============================] - 61s 3ms/sample - loss: 0.2042 - accuracy: 0.9173 - val_loss: 0.5083 - val_accuracy: 0.8202\n",
            "Epoch 20/50\n",
            "20000/20000 [==============================] - 62s 3ms/sample - loss: 0.1990 - accuracy: 0.9176 - val_loss: 0.5567 - val_accuracy: 0.8176\n",
            "Epoch 21/50\n",
            "20000/20000 [==============================] - 61s 3ms/sample - loss: 0.1919 - accuracy: 0.9205 - val_loss: 0.5382 - val_accuracy: 0.8077\n",
            "Epoch 22/50\n",
            "20000/20000 [==============================] - 61s 3ms/sample - loss: 0.1863 - accuracy: 0.9244 - val_loss: 0.6282 - val_accuracy: 0.8125\n",
            "Epoch 23/50\n",
            "20000/20000 [==============================] - 61s 3ms/sample - loss: 0.1818 - accuracy: 0.9261 - val_loss: 0.6022 - val_accuracy: 0.8113\n",
            "Epoch 24/50\n",
            "20000/20000 [==============================] - 61s 3ms/sample - loss: 0.1742 - accuracy: 0.9300 - val_loss: 0.6402 - val_accuracy: 0.8114\n",
            "Epoch 25/50\n",
            "20000/20000 [==============================] - 62s 3ms/sample - loss: 0.1665 - accuracy: 0.9347 - val_loss: 0.6674 - val_accuracy: 0.8095\n",
            "Epoch 26/50\n",
            "20000/20000 [==============================] - 62s 3ms/sample - loss: 0.1623 - accuracy: 0.9359 - val_loss: 0.6460 - val_accuracy: 0.8091\n",
            "Epoch 27/50\n",
            "20000/20000 [==============================] - 61s 3ms/sample - loss: 0.1557 - accuracy: 0.9395 - val_loss: 0.7223 - val_accuracy: 0.8074\n",
            "Epoch 28/50\n",
            "20000/20000 [==============================] - 61s 3ms/sample - loss: 0.1501 - accuracy: 0.9414 - val_loss: 0.8170 - val_accuracy: 0.8052\n",
            "Epoch 29/50\n",
            "20000/20000 [==============================] - 61s 3ms/sample - loss: 0.1479 - accuracy: 0.9411 - val_loss: 0.7711 - val_accuracy: 0.8028\n",
            "Epoch 30/50\n",
            "20000/20000 [==============================] - 61s 3ms/sample - loss: 0.1444 - accuracy: 0.9426 - val_loss: 0.7721 - val_accuracy: 0.8044\n",
            "Epoch 31/50\n",
            "20000/20000 [==============================] - 61s 3ms/sample - loss: 0.1354 - accuracy: 0.9463 - val_loss: 0.8508 - val_accuracy: 0.8052\n",
            "Epoch 32/50\n",
            "20000/20000 [==============================] - 61s 3ms/sample - loss: 0.1318 - accuracy: 0.9478 - val_loss: 0.8775 - val_accuracy: 0.7994\n",
            "Epoch 33/50\n",
            "20000/20000 [==============================] - 61s 3ms/sample - loss: 0.1288 - accuracy: 0.9503 - val_loss: 0.8554 - val_accuracy: 0.8028\n",
            "Epoch 34/50\n",
            "20000/20000 [==============================] - 61s 3ms/sample - loss: 0.1223 - accuracy: 0.9506 - val_loss: 0.9865 - val_accuracy: 0.7951\n",
            "Epoch 35/50\n",
            "20000/20000 [==============================] - 61s 3ms/sample - loss: 0.1199 - accuracy: 0.9525 - val_loss: 1.0244 - val_accuracy: 0.7940\n",
            "Epoch 36/50\n",
            "20000/20000 [==============================] - 61s 3ms/sample - loss: 0.1109 - accuracy: 0.9570 - val_loss: 1.0357 - val_accuracy: 0.7942\n",
            "Epoch 37/50\n",
            "20000/20000 [==============================] - 61s 3ms/sample - loss: 0.1079 - accuracy: 0.9571 - val_loss: 1.0521 - val_accuracy: 0.8032\n",
            "Epoch 38/50\n",
            "20000/20000 [==============================] - 61s 3ms/sample - loss: 0.1033 - accuracy: 0.9594 - val_loss: 1.1618 - val_accuracy: 0.8012\n",
            "Epoch 39/50\n",
            "20000/20000 [==============================] - 61s 3ms/sample - loss: 0.1061 - accuracy: 0.9577 - val_loss: 1.1410 - val_accuracy: 0.8010\n",
            "Epoch 40/50\n",
            "20000/20000 [==============================] - 60s 3ms/sample - loss: 0.1009 - accuracy: 0.9599 - val_loss: 1.0743 - val_accuracy: 0.7942\n",
            "Epoch 41/50\n",
            "20000/20000 [==============================] - 59s 3ms/sample - loss: 0.0947 - accuracy: 0.9627 - val_loss: 1.2786 - val_accuracy: 0.7970\n",
            "Epoch 42/50\n",
            "20000/20000 [==============================] - 58s 3ms/sample - loss: 0.0934 - accuracy: 0.9626 - val_loss: 1.1721 - val_accuracy: 0.7965\n",
            "Epoch 43/50\n",
            "20000/20000 [==============================] - 58s 3ms/sample - loss: 0.0842 - accuracy: 0.9667 - val_loss: 1.2156 - val_accuracy: 0.7962\n",
            "Epoch 44/50\n",
            "20000/20000 [==============================] - 58s 3ms/sample - loss: 0.0897 - accuracy: 0.9642 - val_loss: 1.3072 - val_accuracy: 0.7946\n",
            "Epoch 45/50\n",
            "20000/20000 [==============================] - 58s 3ms/sample - loss: 0.0847 - accuracy: 0.9653 - val_loss: 1.2982 - val_accuracy: 0.7951\n",
            "Epoch 46/50\n",
            "20000/20000 [==============================] - 59s 3ms/sample - loss: 0.0780 - accuracy: 0.9688 - val_loss: 1.3192 - val_accuracy: 0.7937\n",
            "Epoch 47/50\n",
            "20000/20000 [==============================] - 59s 3ms/sample - loss: 0.0773 - accuracy: 0.9685 - val_loss: 1.3139 - val_accuracy: 0.7937\n",
            "Epoch 48/50\n",
            "20000/20000 [==============================] - 59s 3ms/sample - loss: 0.0731 - accuracy: 0.9711 - val_loss: 1.3438 - val_accuracy: 0.7915\n",
            "Epoch 49/50\n",
            "20000/20000 [==============================] - 59s 3ms/sample - loss: 0.0725 - accuracy: 0.9708 - val_loss: 1.3892 - val_accuracy: 0.7864\n",
            "Epoch 50/50\n",
            "20000/20000 [==============================] - 58s 3ms/sample - loss: 0.0784 - accuracy: 0.9674 - val_loss: 1.3371 - val_accuracy: 0.7925\n"
          ],
          "name": "stdout"
        }
      ]
    },
    {
      "cell_type": "code",
      "metadata": {
        "id": "CHA9uH2IXY7o",
        "colab_type": "code",
        "colab": {}
      },
      "source": [
        "import matplotlib.pyplot as plt\n",
        "\n",
        "def plot_graphs(history, string):\n",
        "  plt.plot(history.history[string])\n",
        "  plt.plot(history.history['val_' + string])\n",
        "  plt.xlabel(\"Epochs\")\n",
        "  plt.ylabel(string)\n",
        "  plt.legend([string, 'val_' + string])\n",
        "  plt.show()"
      ],
      "execution_count": 0,
      "outputs": []
    },
    {
      "cell_type": "code",
      "metadata": {
        "id": "w3wenMuojcZy",
        "colab_type": "code",
        "colab": {
          "base_uri": "https://localhost:8080/",
          "height": 283
        },
        "outputId": "a839ac54-4f0e-4532-e28f-b998cb411a43"
      },
      "source": [
        "plot_graphs(history, 'accuracy')"
      ],
      "execution_count": 16,
      "outputs": [
        {
          "output_type": "display_data",
          "data": {
            "image/png": "[encoded data removed]",
            "text/plain": [
              "<Figure size 432x288 with 1 Axes>"
            ]
          },
          "metadata": {
            "tags": []
          }
        }
      ]
    },
    {
      "cell_type": "code",
      "metadata": {
        "id": "PADd5uQUjex_",
        "colab_type": "code",
        "colab": {
          "base_uri": "https://localhost:8080/",
          "height": 283
        },
        "outputId": "5ab68c07-7935-42b7-83f2-131fdd18fc2f"
      },
      "source": [
        "plot_graphs(history, 'loss')"
      ],
      "execution_count": 17,
      "outputs": [
        {
          "output_type": "display_data",
          "data": {
            "image/png": "[encoded data removed]",
            "text/plain": [
              "<Figure size 432x288 with 1 Axes>"
            ]
          },
          "metadata": {
            "tags": []
          }
        }
      ]
    },
    {
      "cell_type": "code",
      "metadata": {
        "id": "Vl5Qi5XIjkdl",
        "colab_type": "code",
        "colab": {}
      },
      "source": [
        "model.save(\"C3_W3_L2.h5\")"
      ],
      "execution_count": 0,
      "outputs": []
    }
  ]
}
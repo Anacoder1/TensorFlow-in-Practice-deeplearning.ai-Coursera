{
  "nbformat": 4,
  "nbformat_minor": 0,
  "metadata": {
    "colab": {
      "name": "Copy of Horse-or-Human-WithAugmentation.ipynb",
      "provenance": [],
      "collapsed_sections": []
    },
    "kernelspec": {
      "name": "python3",
      "display_name": "Python 3"
    },
    "accelerator": "GPU"
  },
  "cells": [
    {
      "cell_type": "code",
      "metadata": {
        "colab_type": "code",
        "id": "RXZT2UsyIVe_",
        "colab": {
          "base_uri": "https://localhost:8080/",
          "height": 410
        },
        "outputId": "4c952995-c791-4dc3-e874-7d8039dd2f9f"
      },
      "source": [
        "!wget --no-check-certificate \\\n",
        "    https://storage.googleapis.com/laurencemoroney-blog.appspot.com/horse-or-human.zip \\\n",
        "    -O /tmp/horse-or-human.zip\n",
        "\n",
        "!wget --no-check-certificate \\\n",
        "    https://storage.googleapis.com/laurencemoroney-blog.appspot.com/validation-horse-or-human.zip \\\n",
        "    -O /tmp/validation-horse-or-human.zip\n",
        "  \n",
        "import os\n",
        "import zipfile\n",
        "\n",
        "local_zip = '/tmp/horse-or-human.zip'\n",
        "zip_ref = zipfile.ZipFile(local_zip, 'r')\n",
        "zip_ref.extractall('/tmp/horse-or-human')\n",
        "local_zip = '/tmp/validation-horse-or-human.zip'\n",
        "zip_ref = zipfile.ZipFile(local_zip, 'r')\n",
        "zip_ref.extractall('/tmp/validation-horse-or-human')\n",
        "zip_ref.close()\n",
        "# Directory with our training horse pictures\n",
        "train_horse_dir = os.path.join('/tmp/horse-or-human/horses')\n",
        "\n",
        "# Directory with our training human pictures\n",
        "train_human_dir = os.path.join('/tmp/horse-or-human/humans')\n",
        "\n",
        "# Directory with our training horse pictures\n",
        "validation_horse_dir = os.path.join('/tmp/validation-horse-or-human/horses')\n",
        "\n",
        "# Directory with our training human pictures\n",
        "validation_human_dir = os.path.join('/tmp/validation-horse-or-human/humans')"
      ],
      "execution_count": 1,
      "outputs": [
        {
          "output_type": "stream",
          "text": [
            "--2019-09-18 18:28:44--  https://storage.googleapis.com/laurencemoroney-blog.appspot.com/horse-or-human.zip\n",
            "Resolving storage.googleapis.com (storage.googleapis.com)... 74.125.141.128, 2607:f8b0:400c:c06::80\n",
            "Connecting to storage.googleapis.com (storage.googleapis.com)|74.125.141.128|:443... connected.\n",
            "HTTP request sent, awaiting response... 200 OK\n",
            "Length: 149574867 (143M) [application/zip]\n",
            "Saving to: ‘/tmp/horse-or-human.zip’\n",
            "\n",
            "\r/tmp/horse-or-human   0%[                    ]       0  --.-KB/s               \r/tmp/horse-or-human  20%[===>                ]  29.71M   147MB/s               \r/tmp/horse-or-human  58%[==========>         ]  83.23M   207MB/s               \r/tmp/horse-or-human  75%[==============>     ] 107.41M   178MB/s               \r/tmp/horse-or-human  95%[==================> ] 136.74M   170MB/s               \r/tmp/horse-or-human 100%[===================>] 142.65M   171MB/s    in 0.8s    \n",
            "\n",
            "2019-09-18 18:28:45 (171 MB/s) - ‘/tmp/horse-or-human.zip’ saved [149574867/149574867]\n",
            "\n",
            "--2019-09-18 18:28:50--  https://storage.googleapis.com/laurencemoroney-blog.appspot.com/validation-horse-or-human.zip\n",
            "Resolving storage.googleapis.com (storage.googleapis.com)... 74.125.141.128, 2607:f8b0:400c:c06::80\n",
            "Connecting to storage.googleapis.com (storage.googleapis.com)|74.125.141.128|:443... connected.\n",
            "HTTP request sent, awaiting response... 200 OK\n",
            "Length: 11480187 (11M) [application/zip]\n",
            "Saving to: ‘/tmp/validation-horse-or-human.zip’\n",
            "\n",
            "/tmp/validation-hor 100%[===================>]  10.95M  --.-KB/s    in 0.1s    \n",
            "\n",
            "2019-09-18 18:28:50 (74.2 MB/s) - ‘/tmp/validation-horse-or-human.zip’ saved [11480187/11480187]\n",
            "\n"
          ],
          "name": "stdout"
        }
      ]
    },
    {
      "cell_type": "markdown",
      "metadata": {
        "colab_type": "text",
        "id": "5oqBkNBJmtUv"
      },
      "source": [
        "## Building a Small Model from Scratch\n",
        "\n",
        "But before we continue, let's start defining the model:\n",
        "\n",
        "Step 1 will be to import tensorflow."
      ]
    },
    {
      "cell_type": "code",
      "metadata": {
        "id": "qvfZg3LQbD-5",
        "colab_type": "code",
        "colab": {}
      },
      "source": [
        "import tensorflow as tf"
      ],
      "execution_count": 0,
      "outputs": []
    },
    {
      "cell_type": "markdown",
      "metadata": {
        "colab_type": "text",
        "id": "BnhYCP4tdqjC"
      },
      "source": [
        "We then add convolutional layers as in the previous example, and flatten the final result to feed into the densely connected layers."
      ]
    },
    {
      "cell_type": "markdown",
      "metadata": {
        "id": "gokG5HKpdtzm",
        "colab_type": "text"
      },
      "source": [
        "Finally we add the densely connected layers. \n",
        "\n",
        "Note that because we are facing a two-class classification problem, i.e. a *binary classification problem*, we will end our network with a [*sigmoid* activation](https://wikipedia.org/wiki/Sigmoid_function), so that the output of our network will be a single scalar between 0 and 1, encoding the probability that the current image is class 1 (as opposed to class 0)."
      ]
    },
    {
      "cell_type": "code",
      "metadata": {
        "id": "PixZ2s5QbYQ3",
        "colab_type": "code",
        "colab": {
          "base_uri": "https://localhost:8080/",
          "height": 91
        },
        "outputId": "3bc20f85-8476-44f4-8095-68a41307e51e"
      },
      "source": [
        "model = tf.keras.models.Sequential([\n",
        "    # Note the input shape is the desired size of the image 300x300 with 3 bytes color\n",
        "    # This is the first convolution\n",
        "    tf.keras.layers.Conv2D(16, (3,3), activation='relu', input_shape=(300, 300, 3)),\n",
        "    tf.keras.layers.MaxPooling2D(2, 2),\n",
        "    # The second convolution\n",
        "    tf.keras.layers.Conv2D(32, (3,3), activation='relu'),\n",
        "    tf.keras.layers.MaxPooling2D(2,2),\n",
        "    # The third convolution\n",
        "    tf.keras.layers.Conv2D(64, (3,3), activation='relu'),\n",
        "    tf.keras.layers.MaxPooling2D(2,2),\n",
        "    # The fourth convolution\n",
        "    tf.keras.layers.Conv2D(64, (3,3), activation='relu'),\n",
        "    tf.keras.layers.MaxPooling2D(2,2),\n",
        "    # The fifth convolution\n",
        "    tf.keras.layers.Conv2D(64, (3,3), activation='relu'),\n",
        "    tf.keras.layers.MaxPooling2D(2,2),\n",
        "    # Flatten the results to feed into a DNN\n",
        "    tf.keras.layers.Flatten(),\n",
        "    # 512 neuron hidden layer\n",
        "    tf.keras.layers.Dense(512, activation='relu'),\n",
        "    # Only 1 output neuron. It will contain a value from 0-1 where 0 for 1 class ('horses') and 1 for the other ('humans')\n",
        "    tf.keras.layers.Dense(1, activation='sigmoid')\n",
        "])"
      ],
      "execution_count": 3,
      "outputs": [
        {
          "output_type": "stream",
          "text": [
            "WARNING:tensorflow:From /usr/local/lib/python3.6/dist-packages/tensorflow/python/ops/init_ops.py:1251: calling VarianceScaling.__init__ (from tensorflow.python.ops.init_ops) with dtype is deprecated and will be removed in a future version.\n",
            "Instructions for updating:\n",
            "Call initializer instance with the dtype argument instead of passing it to the constructor\n"
          ],
          "name": "stdout"
        }
      ]
    },
    {
      "cell_type": "code",
      "metadata": {
        "colab_type": "code",
        "id": "8DHWhFP_uhq3",
        "colab": {
          "base_uri": "https://localhost:8080/",
          "height": 91
        },
        "outputId": "897efcaa-8d98-4e29-9fec-2d919195d549"
      },
      "source": [
        "from tensorflow.keras.optimizers import RMSprop\n",
        "\n",
        "model.compile(loss='binary_crossentropy',\n",
        "              optimizer=RMSprop(lr=1e-4),\n",
        "              metrics=['acc'])"
      ],
      "execution_count": 4,
      "outputs": [
        {
          "output_type": "stream",
          "text": [
            "WARNING:tensorflow:From /usr/local/lib/python3.6/dist-packages/tensorflow/python/ops/nn_impl.py:180: add_dispatch_support.<locals>.wrapper (from tensorflow.python.ops.array_ops) is deprecated and will be removed in a future version.\n",
            "Instructions for updating:\n",
            "Use tf.where in 2.0, which has the same broadcast rule as np.where\n"
          ],
          "name": "stdout"
        }
      ]
    },
    {
      "cell_type": "code",
      "metadata": {
        "colab_type": "code",
        "id": "ClebU9NJg99G",
        "colab": {
          "base_uri": "https://localhost:8080/",
          "height": 53
        },
        "outputId": "e34d4d85-81f4-4372-9ad8-b080277957c1"
      },
      "source": [
        "from tensorflow.keras.preprocessing.image import ImageDataGenerator\n",
        "\n",
        "# All images will be rescaled by 1./255\n",
        "train_datagen = ImageDataGenerator(\n",
        "      rescale=1./255,\n",
        "      rotation_range=40,\n",
        "      width_shift_range=0.2,\n",
        "      height_shift_range=0.2,\n",
        "      shear_range=0.2,\n",
        "      zoom_range=0.2,\n",
        "      horizontal_flip=True,\n",
        "      fill_mode='nearest')\n",
        "\n",
        "validation_datagen = ImageDataGenerator(rescale=1/255)\n",
        "\n",
        "# Flow training images in batches of 128 using train_datagen generator\n",
        "train_generator = train_datagen.flow_from_directory(\n",
        "        '/tmp/horse-or-human/',  # This is the source directory for training images\n",
        "        target_size=(300, 300),  # All images will be resized to 150x150\n",
        "        batch_size=128,\n",
        "        # Since we use binary_crossentropy loss, we need binary labels\n",
        "        class_mode='binary')\n",
        "\n",
        "# Flow training images in batches of 128 using train_datagen generator\n",
        "validation_generator = validation_datagen.flow_from_directory(\n",
        "        '/tmp/validation-horse-or-human/',  # This is the source directory for training images\n",
        "        target_size=(300, 300),  # All images will be resized to 150x150\n",
        "        batch_size=32,\n",
        "        # Since we use binary_crossentropy loss, we need binary labels\n",
        "        class_mode='binary')"
      ],
      "execution_count": 5,
      "outputs": [
        {
          "output_type": "stream",
          "text": [
            "Found 1027 images belonging to 2 classes.\n",
            "Found 256 images belonging to 2 classes.\n"
          ],
          "name": "stdout"
        }
      ]
    },
    {
      "cell_type": "code",
      "metadata": {
        "colab_type": "code",
        "id": "Fb1_lgobv81m",
        "colab": {
          "base_uri": "https://localhost:8080/",
          "height": 1000
        },
        "outputId": "2de0148b-4d17-4de5-e833-a98f0ec9053f"
      },
      "source": [
        "history = model.fit_generator(\n",
        "      train_generator,\n",
        "      steps_per_epoch=8,  \n",
        "      epochs=100,\n",
        "      verbose=1,\n",
        "      validation_data = validation_generator,\n",
        "      validation_steps=8)"
      ],
      "execution_count": 6,
      "outputs": [
        {
          "output_type": "stream",
          "text": [
            "Epoch 1/100\n",
            "8/8 [==============================] - 23s 3s/step - loss: 0.6873 - acc: 0.5306 - val_loss: 0.6910 - val_acc: 0.5000\n",
            "Epoch 2/100\n",
            "8/8 [==============================] - 23s 3s/step - loss: 0.6748 - acc: 0.5773 - val_loss: 0.6734 - val_acc: 0.5000\n",
            "Epoch 3/100\n",
            "8/8 [==============================] - 24s 3s/step - loss: 0.6601 - acc: 0.6541 - val_loss: 0.6404 - val_acc: 0.5312\n",
            "Epoch 4/100\n",
            "8/8 [==============================] - 23s 3s/step - loss: 0.6620 - acc: 0.6207 - val_loss: 0.6080 - val_acc: 0.5625\n",
            "Epoch 5/100\n",
            "8/8 [==============================] - 23s 3s/step - loss: 0.6147 - acc: 0.6897 - val_loss: 0.5628 - val_acc: 0.6836\n",
            "Epoch 6/100\n",
            "8/8 [==============================] - 27s 3s/step - loss: 0.5947 - acc: 0.7158 - val_loss: 0.4460 - val_acc: 0.8398\n",
            "Epoch 7/100\n",
            "8/8 [==============================] - 23s 3s/step - loss: 0.5807 - acc: 0.7152 - val_loss: 0.5764 - val_acc: 0.6758\n",
            "Epoch 8/100\n",
            "8/8 [==============================] - 24s 3s/step - loss: 0.5559 - acc: 0.7575 - val_loss: 0.9817 - val_acc: 0.5156\n",
            "Epoch 9/100\n",
            "8/8 [==============================] - 23s 3s/step - loss: 0.5145 - acc: 0.7397 - val_loss: 0.5175 - val_acc: 0.7266\n",
            "Epoch 10/100\n",
            "8/8 [==============================] - 26s 3s/step - loss: 0.5070 - acc: 0.7646 - val_loss: 0.8393 - val_acc: 0.6094\n",
            "Epoch 11/100\n",
            "8/8 [==============================] - 21s 3s/step - loss: 0.5263 - acc: 0.7209 - val_loss: 0.7176 - val_acc: 0.6719\n",
            "Epoch 12/100\n",
            "8/8 [==============================] - 23s 3s/step - loss: 0.4639 - acc: 0.7764 - val_loss: 1.0748 - val_acc: 0.5664\n",
            "Epoch 13/100\n",
            "8/8 [==============================] - 23s 3s/step - loss: 0.5210 - acc: 0.7586 - val_loss: 0.8016 - val_acc: 0.6523\n",
            "Epoch 14/100\n",
            "8/8 [==============================] - 23s 3s/step - loss: 0.4456 - acc: 0.7798 - val_loss: 0.8722 - val_acc: 0.6523\n",
            "Epoch 15/100\n",
            "8/8 [==============================] - 27s 3s/step - loss: 0.4224 - acc: 0.8008 - val_loss: 1.3370 - val_acc: 0.5625\n",
            "Epoch 16/100\n",
            "8/8 [==============================] - 23s 3s/step - loss: 0.4149 - acc: 0.7931 - val_loss: 1.0118 - val_acc: 0.6367\n",
            "Epoch 17/100\n",
            "8/8 [==============================] - 23s 3s/step - loss: 0.4652 - acc: 0.7920 - val_loss: 1.4414 - val_acc: 0.5625\n",
            "Epoch 18/100\n",
            "8/8 [==============================] - 23s 3s/step - loss: 0.4326 - acc: 0.8009 - val_loss: 1.0202 - val_acc: 0.6562\n",
            "Epoch 19/100\n",
            "8/8 [==============================] - 23s 3s/step - loss: 0.4094 - acc: 0.7842 - val_loss: 1.0304 - val_acc: 0.6406\n",
            "Epoch 20/100\n",
            "8/8 [==============================] - 27s 3s/step - loss: 0.3876 - acc: 0.8301 - val_loss: 0.9155 - val_acc: 0.6875\n",
            "Epoch 21/100\n",
            "8/8 [==============================] - 23s 3s/step - loss: 0.4617 - acc: 0.7931 - val_loss: 1.2988 - val_acc: 0.5977\n",
            "Epoch 22/100\n",
            "8/8 [==============================] - 20s 3s/step - loss: 0.5835 - acc: 0.7829 - val_loss: 1.1243 - val_acc: 0.6094\n",
            "Epoch 23/100\n",
            "8/8 [==============================] - 23s 3s/step - loss: 0.3727 - acc: 0.8309 - val_loss: 1.4885 - val_acc: 0.5625\n",
            "Epoch 24/100\n",
            "8/8 [==============================] - 26s 3s/step - loss: 0.3664 - acc: 0.8350 - val_loss: 1.7820 - val_acc: 0.5508\n",
            "Epoch 25/100\n",
            "8/8 [==============================] - 24s 3s/step - loss: 0.4436 - acc: 0.7942 - val_loss: 1.2716 - val_acc: 0.6055\n",
            "Epoch 26/100\n",
            "8/8 [==============================] - 23s 3s/step - loss: 0.3192 - acc: 0.8343 - val_loss: 1.9448 - val_acc: 0.5430\n",
            "Epoch 27/100\n",
            "8/8 [==============================] - 23s 3s/step - loss: 0.3627 - acc: 0.8231 - val_loss: 1.4735 - val_acc: 0.5977\n",
            "Epoch 28/100\n",
            "8/8 [==============================] - 23s 3s/step - loss: 0.2852 - acc: 0.8598 - val_loss: 1.8096 - val_acc: 0.5586\n",
            "Epoch 29/100\n",
            "8/8 [==============================] - 23s 3s/step - loss: 0.3537 - acc: 0.8443 - val_loss: 1.7348 - val_acc: 0.5664\n",
            "Epoch 30/100\n",
            "8/8 [==============================] - 23s 3s/step - loss: 0.4188 - acc: 0.8298 - val_loss: 1.3666 - val_acc: 0.5977\n",
            "Epoch 31/100\n",
            "8/8 [==============================] - 23s 3s/step - loss: 0.3472 - acc: 0.8487 - val_loss: 1.1720 - val_acc: 0.6445\n",
            "Epoch 32/100\n",
            "8/8 [==============================] - 26s 3s/step - loss: 0.3039 - acc: 0.8750 - val_loss: 1.9037 - val_acc: 0.5508\n",
            "Epoch 33/100\n",
            "8/8 [==============================] - 23s 3s/step - loss: 0.3261 - acc: 0.8554 - val_loss: 2.1839 - val_acc: 0.5430\n",
            "Epoch 34/100\n",
            "8/8 [==============================] - 23s 3s/step - loss: 0.3233 - acc: 0.8331 - val_loss: 1.3524 - val_acc: 0.6367\n",
            "Epoch 35/100\n",
            "8/8 [==============================] - 24s 3s/step - loss: 0.3098 - acc: 0.8610 - val_loss: 1.4104 - val_acc: 0.6289\n",
            "Epoch 36/100\n",
            "8/8 [==============================] - 24s 3s/step - loss: 0.4326 - acc: 0.8109 - val_loss: 1.9843 - val_acc: 0.5430\n",
            "Epoch 37/100\n",
            "8/8 [==============================] - 23s 3s/step - loss: 0.2897 - acc: 0.8776 - val_loss: 1.9476 - val_acc: 0.5508\n",
            "Epoch 38/100\n",
            "8/8 [==============================] - 23s 3s/step - loss: 0.2464 - acc: 0.9021 - val_loss: 1.6683 - val_acc: 0.6133\n",
            "Epoch 39/100\n",
            "8/8 [==============================] - 26s 3s/step - loss: 0.3272 - acc: 0.8623 - val_loss: 2.1377 - val_acc: 0.5469\n",
            "Epoch 40/100\n",
            "8/8 [==============================] - 23s 3s/step - loss: 0.2746 - acc: 0.8832 - val_loss: 1.6825 - val_acc: 0.6172\n",
            "Epoch 41/100\n",
            "8/8 [==============================] - 23s 3s/step - loss: 0.2181 - acc: 0.8977 - val_loss: 1.9950 - val_acc: 0.5781\n",
            "Epoch 42/100\n",
            "8/8 [==============================] - 23s 3s/step - loss: 0.2844 - acc: 0.8565 - val_loss: 1.6531 - val_acc: 0.6250\n",
            "Epoch 43/100\n",
            "8/8 [==============================] - 20s 2s/step - loss: 0.3621 - acc: 0.8553 - val_loss: 1.9978 - val_acc: 0.6016\n",
            "Epoch 44/100\n",
            "8/8 [==============================] - 26s 3s/step - loss: 0.2379 - acc: 0.9043 - val_loss: 2.1645 - val_acc: 0.5820\n",
            "Epoch 45/100\n",
            "8/8 [==============================] - 23s 3s/step - loss: 0.2781 - acc: 0.8687 - val_loss: 2.9939 - val_acc: 0.5117\n",
            "Epoch 46/100\n",
            "8/8 [==============================] - 23s 3s/step - loss: 0.2718 - acc: 0.8899 - val_loss: 2.4150 - val_acc: 0.5586\n",
            "Epoch 47/100\n",
            "8/8 [==============================] - 23s 3s/step - loss: 0.2461 - acc: 0.9043 - val_loss: 0.9933 - val_acc: 0.7305\n",
            "Epoch 48/100\n",
            "8/8 [==============================] - 23s 3s/step - loss: 0.3057 - acc: 0.8509 - val_loss: 1.6852 - val_acc: 0.6094\n",
            "Epoch 49/100\n",
            "8/8 [==============================] - 26s 3s/step - loss: 0.1971 - acc: 0.9180 - val_loss: 2.0086 - val_acc: 0.6016\n",
            "Epoch 50/100\n",
            "8/8 [==============================] - 20s 2s/step - loss: 0.2842 - acc: 0.8915 - val_loss: 1.4148 - val_acc: 0.6719\n",
            "Epoch 51/100\n",
            "8/8 [==============================] - 26s 3s/step - loss: 0.2608 - acc: 0.8916 - val_loss: 1.3276 - val_acc: 0.6797\n",
            "Epoch 52/100\n",
            "8/8 [==============================] - 20s 2s/step - loss: 0.2537 - acc: 0.8966 - val_loss: 2.3119 - val_acc: 0.5547\n",
            "Epoch 53/100\n",
            "8/8 [==============================] - 26s 3s/step - loss: 0.2086 - acc: 0.9150 - val_loss: 2.8192 - val_acc: 0.5195\n",
            "Epoch 54/100\n",
            "8/8 [==============================] - 23s 3s/step - loss: 0.2169 - acc: 0.9055 - val_loss: 1.3949 - val_acc: 0.6836\n",
            "Epoch 55/100\n",
            "8/8 [==============================] - 23s 3s/step - loss: 0.2222 - acc: 0.9032 - val_loss: 2.4562 - val_acc: 0.5703\n",
            "Epoch 56/100\n",
            "8/8 [==============================] - 26s 3s/step - loss: 0.2779 - acc: 0.8750 - val_loss: 1.8056 - val_acc: 0.6250\n",
            "Epoch 57/100\n",
            "8/8 [==============================] - 20s 2s/step - loss: 0.1718 - acc: 0.9147 - val_loss: 2.1361 - val_acc: 0.6055\n",
            "Epoch 58/100\n",
            "8/8 [==============================] - 23s 3s/step - loss: 0.3143 - acc: 0.9010 - val_loss: 2.6175 - val_acc: 0.5391\n",
            "Epoch 59/100\n",
            "8/8 [==============================] - 26s 3s/step - loss: 0.1725 - acc: 0.9385 - val_loss: 2.3805 - val_acc: 0.5742\n",
            "Epoch 60/100\n",
            "8/8 [==============================] - 20s 2s/step - loss: 0.2675 - acc: 0.8837 - val_loss: 1.6848 - val_acc: 0.6406\n",
            "Epoch 61/100\n",
            "8/8 [==============================] - 26s 3s/step - loss: 0.2346 - acc: 0.9053 - val_loss: 1.9375 - val_acc: 0.6133\n",
            "Epoch 62/100\n",
            "8/8 [==============================] - 23s 3s/step - loss: 0.1842 - acc: 0.9088 - val_loss: 2.2550 - val_acc: 0.5820\n",
            "Epoch 63/100\n",
            "8/8 [==============================] - 23s 3s/step - loss: 0.1977 - acc: 0.9077 - val_loss: 2.3625 - val_acc: 0.5781\n",
            "Epoch 64/100\n",
            "8/8 [==============================] - 23s 3s/step - loss: 0.2033 - acc: 0.9010 - val_loss: 2.2431 - val_acc: 0.6016\n",
            "Epoch 65/100\n",
            "8/8 [==============================] - 23s 3s/step - loss: 0.1509 - acc: 0.9299 - val_loss: 3.8665 - val_acc: 0.5117\n",
            "Epoch 66/100\n",
            "8/8 [==============================] - 23s 3s/step - loss: 0.2664 - acc: 0.8632 - val_loss: 2.2691 - val_acc: 0.5977\n",
            "Epoch 67/100\n",
            "8/8 [==============================] - 26s 3s/step - loss: 0.1523 - acc: 0.9424 - val_loss: 1.6120 - val_acc: 0.6836\n",
            "Epoch 68/100\n",
            "8/8 [==============================] - 20s 2s/step - loss: 0.1637 - acc: 0.9393 - val_loss: 2.3002 - val_acc: 0.6211\n",
            "Epoch 69/100\n",
            "8/8 [==============================] - 26s 3s/step - loss: 0.2156 - acc: 0.9053 - val_loss: 1.7182 - val_acc: 0.6523\n",
            "Epoch 70/100\n",
            "8/8 [==============================] - 23s 3s/step - loss: 0.1603 - acc: 0.9288 - val_loss: 2.2946 - val_acc: 0.6172\n",
            "Epoch 71/100\n",
            "8/8 [==============================] - 23s 3s/step - loss: 0.2246 - acc: 0.9155 - val_loss: 2.3406 - val_acc: 0.6094\n",
            "Epoch 72/100\n",
            "8/8 [==============================] - 23s 3s/step - loss: 0.1467 - acc: 0.9377 - val_loss: 2.5370 - val_acc: 0.6094\n",
            "Epoch 73/100\n",
            "8/8 [==============================] - 23s 3s/step - loss: 0.1611 - acc: 0.9366 - val_loss: 2.8840 - val_acc: 0.5664\n",
            "Epoch 74/100\n",
            "8/8 [==============================] - 26s 3s/step - loss: 0.2153 - acc: 0.9170 - val_loss: 1.2665 - val_acc: 0.7188\n",
            "Epoch 75/100\n",
            "8/8 [==============================] - 20s 2s/step - loss: 0.3730 - acc: 0.8798 - val_loss: 1.9769 - val_acc: 0.6328\n",
            "Epoch 76/100\n",
            "8/8 [==============================] - 23s 3s/step - loss: 0.2403 - acc: 0.8999 - val_loss: 2.5832 - val_acc: 0.5898\n",
            "Epoch 77/100\n",
            "8/8 [==============================] - 23s 3s/step - loss: 0.1482 - acc: 0.9333 - val_loss: 2.2679 - val_acc: 0.6328\n",
            "Epoch 78/100\n",
            "8/8 [==============================] - 23s 3s/step - loss: 0.2264 - acc: 0.9110 - val_loss: 2.2301 - val_acc: 0.6289\n",
            "Epoch 79/100\n",
            "8/8 [==============================] - 24s 3s/step - loss: 0.1380 - acc: 0.9466 - val_loss: 3.0734 - val_acc: 0.5742\n",
            "Epoch 80/100\n",
            "8/8 [==============================] - 27s 3s/step - loss: 0.1741 - acc: 0.9268 - val_loss: 3.6338 - val_acc: 0.5430\n",
            "Epoch 81/100\n",
            "8/8 [==============================] - 23s 3s/step - loss: 0.1645 - acc: 0.9288 - val_loss: 4.2270 - val_acc: 0.5195\n",
            "Epoch 82/100\n",
            "8/8 [==============================] - 26s 3s/step - loss: 0.1577 - acc: 0.9404 - val_loss: 2.4972 - val_acc: 0.6289\n",
            "Epoch 83/100\n",
            "8/8 [==============================] - 21s 3s/step - loss: 0.2391 - acc: 0.9121 - val_loss: 2.0901 - val_acc: 0.6406\n",
            "Epoch 84/100\n",
            "8/8 [==============================] - 23s 3s/step - loss: 0.1407 - acc: 0.9466 - val_loss: 2.9726 - val_acc: 0.5742\n",
            "Epoch 85/100\n",
            "8/8 [==============================] - 26s 3s/step - loss: 0.1495 - acc: 0.9424 - val_loss: 2.3837 - val_acc: 0.6289\n",
            "Epoch 86/100\n",
            "8/8 [==============================] - 19s 2s/step - loss: 0.1585 - acc: 0.9160 - val_loss: 2.2493 - val_acc: 0.6328\n",
            "Epoch 87/100\n",
            "8/8 [==============================] - 25s 3s/step - loss: 0.1670 - acc: 0.9336 - val_loss: 2.5543 - val_acc: 0.6250\n",
            "Epoch 88/100\n",
            "8/8 [==============================] - 22s 3s/step - loss: 0.1334 - acc: 0.9433 - val_loss: 2.1740 - val_acc: 0.6523\n",
            "Epoch 89/100\n",
            "8/8 [==============================] - 23s 3s/step - loss: 0.1482 - acc: 0.9266 - val_loss: 2.4231 - val_acc: 0.6328\n",
            "Epoch 90/100\n",
            "8/8 [==============================] - 22s 3s/step - loss: 0.1363 - acc: 0.9444 - val_loss: 3.7759 - val_acc: 0.5469\n",
            "Epoch 91/100\n",
            "8/8 [==============================] - 22s 3s/step - loss: 0.2266 - acc: 0.9066 - val_loss: 2.4019 - val_acc: 0.6250\n",
            "Epoch 92/100\n",
            "8/8 [==============================] - 22s 3s/step - loss: 0.1065 - acc: 0.9633 - val_loss: 3.1586 - val_acc: 0.5938\n",
            "Epoch 93/100\n",
            "8/8 [==============================] - 26s 3s/step - loss: 0.1543 - acc: 0.9346 - val_loss: 1.8311 - val_acc: 0.6680\n",
            "Epoch 94/100\n",
            "8/8 [==============================] - 20s 2s/step - loss: 0.1063 - acc: 0.9509 - val_loss: 2.2205 - val_acc: 0.6641\n",
            "Epoch 95/100\n",
            "8/8 [==============================] - 23s 3s/step - loss: 0.1545 - acc: 0.9221 - val_loss: 2.1815 - val_acc: 0.6562\n",
            "Epoch 96/100\n",
            "8/8 [==============================] - 25s 3s/step - loss: 0.1693 - acc: 0.9336 - val_loss: 4.2631 - val_acc: 0.5234\n",
            "Epoch 97/100\n",
            "8/8 [==============================] - 23s 3s/step - loss: 0.1319 - acc: 0.9466 - val_loss: 2.3923 - val_acc: 0.6289\n",
            "Epoch 98/100\n",
            "8/8 [==============================] - 23s 3s/step - loss: 0.2665 - acc: 0.9132 - val_loss: 2.3937 - val_acc: 0.6133\n",
            "Epoch 99/100\n",
            "8/8 [==============================] - 22s 3s/step - loss: 0.1092 - acc: 0.9622 - val_loss: 2.9178 - val_acc: 0.6016\n",
            "Epoch 100/100\n",
            "8/8 [==============================] - 23s 3s/step - loss: 0.1840 - acc: 0.9266 - val_loss: 2.4544 - val_acc: 0.6289\n"
          ],
          "name": "stdout"
        }
      ]
    },
    {
      "cell_type": "code",
      "metadata": {
        "id": "7zNPRWOVJdOH",
        "colab_type": "code",
        "colab": {
          "base_uri": "https://localhost:8080/",
          "height": 545
        },
        "outputId": "b1df6ec6-aa33-4502-8ada-cdb2b2ac54d0"
      },
      "source": [
        "import matplotlib.pyplot as plt\n",
        "acc = history.history['acc']\n",
        "val_acc = history.history['val_acc']\n",
        "loss = history.history['loss']\n",
        "val_loss = history.history['val_loss']\n",
        "\n",
        "epochs = range(len(acc))\n",
        "\n",
        "plt.plot(epochs, acc, 'r', label='Training accuracy')\n",
        "plt.plot(epochs, val_acc, 'b', label='Validation accuracy')\n",
        "plt.title('Training and validation accuracy')\n",
        "\n",
        "plt.figure()\n",
        "\n",
        "plt.plot(epochs, loss, 'r', label='Training Loss')\n",
        "plt.plot(epochs, val_loss, 'b', label='Validation Loss')\n",
        "plt.title('Training and validation loss')\n",
        "plt.legend()\n",
        "\n",
        "plt.show()"
      ],
      "execution_count": 7,
      "outputs": [
        {
          "output_type": "display_data",
          "data": {
            "image/png": "[encoded data removed]",
            "text/plain": [
              "<Figure size 432x288 with 1 Axes>"
            ]
          },
          "metadata": {
            "tags": []
          }
        },
        {
          "output_type": "display_data",
          "data": {
            "image/png": "[encoded data removed]",
            "text/plain": [
              "<Figure size 432x288 with 1 Axes>"
            ]
          },
          "metadata": {
            "tags": []
          }
        }
      ]
    },
    {
      "cell_type": "code",
      "metadata": {
        "id": "7JIaiqRsxuai",
        "colab_type": "code",
        "colab": {}
      },
      "source": [
        ""
      ],
      "execution_count": 0,
      "outputs": []
    }
  ]
}
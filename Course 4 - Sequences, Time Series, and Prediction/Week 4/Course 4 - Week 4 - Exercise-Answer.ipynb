{
  "nbformat": 4,
  "nbformat_minor": 0,
  "metadata": {
    "colab": {
      "name": "Copy of S+P Week 4 Exercise Answer.ipynb",
      "provenance": [],
      "collapsed_sections": []
    },
    "kernelspec": {
      "name": "python3",
      "display_name": "Python 3"
    },
    "accelerator": "GPU"
  },
  "cells": [
    {
      "cell_type": "code",
      "metadata": {
        "id": "GNkzTFfynsmV",
        "colab_type": "code",
        "colab": {
          "base_uri": "https://localhost:8080/",
          "height": 591
        },
        "outputId": "88265963-3726-4b1f-9e8b-e8cd5d0a8e44"
      },
      "source": [
        "!pip install tensorflow==2.0.0-beta1"
      ],
      "execution_count": 1,
      "outputs": [
        {
          "output_type": "stream",
          "text": [
            "Collecting tensorflow==2.0.0-beta1\n",
            "\u001b[?25l  Downloading https://files.pythonhosted.org/packages/29/6c/2c9a5c4d095c63c2fb37d20def0e4f92685f7aee9243d6aae25862694fd1/tensorflow-2.0.0b1-cp36-cp36m-manylinux1_x86_64.whl (87.9MB)\n",
            "\u001b[K     |████████████████████████████████| 87.9MB 1.4MB/s \n",
            "\u001b[?25hRequirement already satisfied: protobuf>=3.6.1 in /usr/local/lib/python3.6/dist-packages (from tensorflow==2.0.0-beta1) (3.7.1)\n",
            "Requirement already satisfied: absl-py>=0.7.0 in /usr/local/lib/python3.6/dist-packages (from tensorflow==2.0.0-beta1) (0.8.0)\n",
            "Requirement already satisfied: gast>=0.2.0 in /usr/local/lib/python3.6/dist-packages (from tensorflow==2.0.0-beta1) (0.2.2)\n",
            "Requirement already satisfied: six>=1.10.0 in /usr/local/lib/python3.6/dist-packages (from tensorflow==2.0.0-beta1) (1.12.0)\n",
            "Requirement already satisfied: google-pasta>=0.1.6 in /usr/local/lib/python3.6/dist-packages (from tensorflow==2.0.0-beta1) (0.1.7)\n",
            "Requirement already satisfied: astor>=0.6.0 in /usr/local/lib/python3.6/dist-packages (from tensorflow==2.0.0-beta1) (0.8.0)\n",
            "Collecting tf-estimator-nightly<1.14.0.dev2019060502,>=1.14.0.dev2019060501 (from tensorflow==2.0.0-beta1)\n",
            "\u001b[?25l  Downloading https://files.pythonhosted.org/packages/32/dd/99c47dd007dcf10d63fd895611b063732646f23059c618a373e85019eb0e/tf_estimator_nightly-1.14.0.dev2019060501-py2.py3-none-any.whl (496kB)\n",
            "\u001b[K     |████████████████████████████████| 501kB 46.3MB/s \n",
            "\u001b[?25hRequirement already satisfied: wheel>=0.26 in /usr/local/lib/python3.6/dist-packages (from tensorflow==2.0.0-beta1) (0.33.6)\n",
            "Requirement already satisfied: numpy<2.0,>=1.14.5 in /usr/local/lib/python3.6/dist-packages (from tensorflow==2.0.0-beta1) (1.16.5)\n",
            "Requirement already satisfied: grpcio>=1.8.6 in /usr/local/lib/python3.6/dist-packages (from tensorflow==2.0.0-beta1) (1.15.0)\n",
            "Requirement already satisfied: termcolor>=1.1.0 in /usr/local/lib/python3.6/dist-packages (from tensorflow==2.0.0-beta1) (1.1.0)\n",
            "Requirement already satisfied: keras-applications>=1.0.6 in /usr/local/lib/python3.6/dist-packages (from tensorflow==2.0.0-beta1) (1.0.8)\n",
            "Collecting tb-nightly<1.14.0a20190604,>=1.14.0a20190603 (from tensorflow==2.0.0-beta1)\n",
            "\u001b[?25l  Downloading https://files.pythonhosted.org/packages/a4/96/571b875cd81dda9d5dfa1422a4f9d749e67c0a8d4f4f0b33a4e5f5f35e27/tb_nightly-1.14.0a20190603-py3-none-any.whl (3.1MB)\n",
            "\u001b[K     |████████████████████████████████| 3.1MB 47.4MB/s \n",
            "\u001b[?25hRequirement already satisfied: wrapt>=1.11.1 in /usr/local/lib/python3.6/dist-packages (from tensorflow==2.0.0-beta1) (1.11.2)\n",
            "Requirement already satisfied: keras-preprocessing>=1.0.5 in /usr/local/lib/python3.6/dist-packages (from tensorflow==2.0.0-beta1) (1.1.0)\n",
            "Requirement already satisfied: setuptools in /usr/local/lib/python3.6/dist-packages (from protobuf>=3.6.1->tensorflow==2.0.0-beta1) (41.2.0)\n",
            "Requirement already satisfied: h5py in /usr/local/lib/python3.6/dist-packages (from keras-applications>=1.0.6->tensorflow==2.0.0-beta1) (2.8.0)\n",
            "Requirement already satisfied: werkzeug>=0.11.15 in /usr/local/lib/python3.6/dist-packages (from tb-nightly<1.14.0a20190604,>=1.14.0a20190603->tensorflow==2.0.0-beta1) (0.15.6)\n",
            "Requirement already satisfied: markdown>=2.6.8 in /usr/local/lib/python3.6/dist-packages (from tb-nightly<1.14.0a20190604,>=1.14.0a20190603->tensorflow==2.0.0-beta1) (3.1.1)\n",
            "Installing collected packages: tf-estimator-nightly, tb-nightly, tensorflow\n",
            "  Found existing installation: tensorflow 1.14.0\n",
            "    Uninstalling tensorflow-1.14.0:\n",
            "      Successfully uninstalled tensorflow-1.14.0\n",
            "Successfully installed tb-nightly-1.14.0a20190603 tensorflow-2.0.0b1 tf-estimator-nightly-1.14.0.dev2019060501\n"
          ],
          "name": "stdout"
        }
      ]
    },
    {
      "cell_type": "code",
      "metadata": {
        "id": "56XEQOGknrAk",
        "colab_type": "code",
        "outputId": "0564d332-8e21-4842-af16-d66d6315cbc8",
        "colab": {
          "base_uri": "https://localhost:8080/",
          "height": 35
        }
      },
      "source": [
        "import tensorflow as tf\n",
        "print(tf.__version__)"
      ],
      "execution_count": 2,
      "outputs": [
        {
          "output_type": "stream",
          "text": [
            "2.0.0-beta1\n"
          ],
          "name": "stdout"
        }
      ]
    },
    {
      "cell_type": "code",
      "metadata": {
        "id": "sLl52leVp5wU",
        "colab_type": "code",
        "colab": {}
      },
      "source": [
        "import numpy as np\n",
        "import matplotlib.pyplot as plt\n",
        "\n",
        "def plot_series(time, series, format=\"-\", start=0, end=None):\n",
        "    plt.plot(time[start:end], series[start:end], format)\n",
        "    plt.xlabel(\"Time\")\n",
        "    plt.ylabel(\"Value\")\n",
        "    plt.grid(True)"
      ],
      "execution_count": 0,
      "outputs": []
    },
    {
      "cell_type": "code",
      "metadata": {
        "id": "tP7oqUdkk0gY",
        "colab_type": "code",
        "colab": {
          "base_uri": "https://localhost:8080/",
          "height": 214
        },
        "outputId": "17281704-4992-4d44-97f7-2654ddf6f80e"
      },
      "source": [
        "!wget --no-check-certificate \\\n",
        "    https://raw.githubusercontent.com/jbrownlee/Datasets/master/daily-min-temperatures.csv \\\n",
        "    -O /tmp/daily-min-temperatures.csv"
      ],
      "execution_count": 4,
      "outputs": [
        {
          "output_type": "stream",
          "text": [
            "--2019-09-25 09:13:48--  https://raw.githubusercontent.com/jbrownlee/Datasets/master/daily-min-temperatures.csv\n",
            "Resolving raw.githubusercontent.com (raw.githubusercontent.com)... 151.101.0.133, 151.101.64.133, 151.101.128.133, ...\n",
            "Connecting to raw.githubusercontent.com (raw.githubusercontent.com)|151.101.0.133|:443... connected.\n",
            "HTTP request sent, awaiting response... 200 OK\n",
            "Length: 67921 (66K) [text/plain]\n",
            "Saving to: ‘/tmp/daily-min-temperatures.csv’\n",
            "\n",
            "\r          /tmp/dail   0%[                    ]       0  --.-KB/s               \r/tmp/daily-min-temp 100%[===================>]  66.33K  --.-KB/s    in 0.01s   \n",
            "\n",
            "2019-09-25 09:13:48 (6.37 MB/s) - ‘/tmp/daily-min-temperatures.csv’ saved [67921/67921]\n",
            "\n"
          ],
          "name": "stdout"
        }
      ]
    },
    {
      "cell_type": "code",
      "metadata": {
        "id": "NcG9r1eClbTh",
        "colab_type": "code",
        "outputId": "001cb8c2-8ff4-4b9b-f117-90815fc6452d",
        "colab": {
          "base_uri": "https://localhost:8080/",
          "height": 392
        }
      },
      "source": [
        "import csv\n",
        "\n",
        "time_step = []\n",
        "temps = []\n",
        "\n",
        "with open('/tmp/daily-min-temperatures.csv') as csvfile:\n",
        "  reader = csv.reader(csvfile, delimiter=',')\n",
        "  next(reader)\n",
        "  step=0\n",
        "  for row in reader:\n",
        "    temps.append(float(row[1]))\n",
        "    time_step.append(step)\n",
        "    step = step + 1\n",
        "\n",
        "series = np.array(temps)\n",
        "time = np.array(time_step)\n",
        "\n",
        "plt.figure(figsize=(10, 6))\n",
        "plot_series(time, series)"
      ],
      "execution_count": 5,
      "outputs": [
        {
          "output_type": "display_data",
          "data": {
            "image/png": "[encoded data removed]",
            "text/plain": [
              "<Figure size 720x432 with 1 Axes>"
            ]
          },
          "metadata": {
            "tags": []
          }
        }
      ]
    },
    {
      "cell_type": "code",
      "metadata": {
        "id": "L92YRw_IpCFG",
        "colab_type": "code",
        "colab": {}
      },
      "source": [
        "split_time = 2500\n",
        "time_train = time[:split_time]\n",
        "x_train = series[:split_time]\n",
        "time_valid = time[split_time:]\n",
        "x_valid = series[split_time:]\n",
        "\n",
        "window_size = 30\n",
        "batch_size = 32\n",
        "shuffle_buffer_size = 1000"
      ],
      "execution_count": 0,
      "outputs": []
    },
    {
      "cell_type": "code",
      "metadata": {
        "id": "lJwUUZscnG38",
        "colab_type": "code",
        "colab": {}
      },
      "source": [
        "def windowed_dataset(series, window_size, batch_size, shuffle_buffer):\n",
        "    series = tf.expand_dims(series, axis=-1)\n",
        "    ds = tf.data.Dataset.from_tensor_slices(series)\n",
        "    ds = ds.window(window_size + 1, shift=1, drop_remainder=True)\n",
        "    ds = ds.flat_map(lambda w: w.batch(window_size + 1))\n",
        "    ds = ds.shuffle(shuffle_buffer)\n",
        "    ds = ds.map(lambda w: (w[:-1], w[-1:]))\n",
        "    return ds.batch(batch_size).prefetch(1)"
      ],
      "execution_count": 0,
      "outputs": []
    },
    {
      "cell_type": "code",
      "metadata": {
        "id": "4XwGrf-A_wF0",
        "colab_type": "code",
        "colab": {}
      },
      "source": [
        "def model_forecast(model, series, window_size):\n",
        "    ds = tf.data.Dataset.from_tensor_slices(series)\n",
        "    ds = ds.window(window_size, shift=1, drop_remainder=True)\n",
        "    ds = ds.flat_map(lambda w: w.batch(window_size))\n",
        "    ds = ds.batch(32).prefetch(1)\n",
        "    forecast = model.predict(ds)\n",
        "    return forecast"
      ],
      "execution_count": 0,
      "outputs": []
    },
    {
      "cell_type": "code",
      "metadata": {
        "id": "AclfYY3Mn6Ph",
        "colab_type": "code",
        "outputId": "7c9f4f5e-9da0-49bc-91fe-10f8b75a9fe4",
        "colab": {
          "base_uri": "https://localhost:8080/",
          "height": 126
        }
      },
      "source": [
        "tf.keras.backend.clear_session()\n",
        "tf.random.set_seed(51)\n",
        "np.random.seed(51)\n",
        "window_size = 64\n",
        "batch_size = 256\n",
        "train_set = windowed_dataset(x_train, window_size, batch_size, shuffle_buffer_size)\n",
        "\n",
        "print(train_set)\n",
        "print(x_train.shape)"
      ],
      "execution_count": 9,
      "outputs": [
        {
          "output_type": "stream",
          "text": [
            "WARNING:tensorflow:From /usr/local/lib/python3.6/dist-packages/tensorflow/python/data/util/random_seed.py:58: add_dispatch_support.<locals>.wrapper (from tensorflow.python.ops.array_ops) is deprecated and will be removed in a future version.\n",
            "Instructions for updating:\n",
            "Use tf.where in 2.0, which has the same broadcast rule as np.where\n",
            "<PrefetchDataset shapes: ((None, None, 1), (None, None, 1)), types: (tf.float64, tf.float64)>\n",
            "(2500,)\n"
          ],
          "name": "stdout"
        }
      ]
    },
    {
      "cell_type": "code",
      "metadata": {
        "id": "F63jfmV7tAH9",
        "colab_type": "code",
        "colab": {
          "base_uri": "https://localhost:8080/",
          "height": 1000
        },
        "outputId": "248eb0f4-b4e4-408b-ae74-2e52f32d6446"
      },
      "source": [
        "model = tf.keras.models.Sequential([\n",
        "  tf.keras.layers.Conv1D(filters=32, kernel_size=5,\n",
        "                      strides=1, padding=\"causal\",\n",
        "                      activation=\"relu\",\n",
        "                      input_shape=[None, 1]),\n",
        "  tf.keras.layers.LSTM(64, return_sequences=True),\n",
        "  tf.keras.layers.LSTM(64, return_sequences=True),\n",
        "  tf.keras.layers.Dense(30, activation=\"relu\"),\n",
        "  tf.keras.layers.Dense(10, activation=\"relu\"),\n",
        "  tf.keras.layers.Dense(1),\n",
        "  tf.keras.layers.Lambda(lambda x: x * 400)\n",
        "])\n",
        "\n",
        "lr_schedule = tf.keras.callbacks.LearningRateScheduler(\n",
        "    lambda epoch: 1e-8 * 10**(epoch / 20))\n",
        "\n",
        "optimizer = tf.keras.optimizers.SGD(lr=1e-8, momentum=0.9)\n",
        "\n",
        "model.compile(loss=tf.keras.losses.Huber(),\n",
        "              optimizer=optimizer,\n",
        "              metrics=[\"mae\"])\n",
        "\n",
        "history = model.fit(train_set, epochs=100, callbacks=[lr_schedule])"
      ],
      "execution_count": 10,
      "outputs": [
        {
          "output_type": "stream",
          "text": [
            "Epoch 1/100\n",
            "10/10 [==============================] - 7s 728ms/step - loss: 31.1593 - mae: 31.6401\n",
            "Epoch 2/100\n",
            "10/10 [==============================] - 4s 423ms/step - loss: 30.5752 - mae: 31.0652\n",
            "Epoch 3/100\n",
            "10/10 [==============================] - 4s 413ms/step - loss: 29.6785 - mae: 30.1734\n",
            "Epoch 4/100\n",
            "10/10 [==============================] - 4s 415ms/step - loss: 28.5556 - mae: 29.0553\n",
            "Epoch 5/100\n",
            "10/10 [==============================] - 4s 419ms/step - loss: 27.1878 - mae: 27.6946\n",
            "Epoch 6/100\n",
            "10/10 [==============================] - 4s 409ms/step - loss: 25.4788 - mae: 25.9970\n",
            "Epoch 7/100\n",
            "10/10 [==============================] - 4s 414ms/step - loss: 23.3038 - mae: 23.8389\n",
            "Epoch 8/100\n",
            "10/10 [==============================] - 4s 412ms/step - loss: 20.5453 - mae: 21.1001\n",
            "Epoch 9/100\n",
            "10/10 [==============================] - 4s 415ms/step - loss: 17.2259 - mae: 17.7962\n",
            "Epoch 10/100\n",
            "10/10 [==============================] - 4s 416ms/step - loss: 13.5191 - mae: 14.0931\n",
            "Epoch 11/100\n",
            "10/10 [==============================] - 4s 415ms/step - loss: 9.9735 - mae: 10.5345\n",
            "Epoch 12/100\n",
            "10/10 [==============================] - 4s 420ms/step - loss: 7.4098 - mae: 7.9476\n",
            "Epoch 13/100\n",
            "10/10 [==============================] - 4s 414ms/step - loss: 6.1103 - mae: 6.6280\n",
            "Epoch 14/100\n",
            "10/10 [==============================] - 4s 409ms/step - loss: 5.5938 - mae: 6.1023\n",
            "Epoch 15/100\n",
            "10/10 [==============================] - 4s 417ms/step - loss: 5.2800 - mae: 5.7860\n",
            "Epoch 16/100\n",
            "10/10 [==============================] - 4s 417ms/step - loss: 4.9400 - mae: 5.4436\n",
            "Epoch 17/100\n",
            "10/10 [==============================] - 4s 418ms/step - loss: 4.6242 - mae: 5.1241\n",
            "Epoch 18/100\n",
            "10/10 [==============================] - 4s 413ms/step - loss: 4.3606 - mae: 4.8567\n",
            "Epoch 19/100\n",
            "10/10 [==============================] - 4s 413ms/step - loss: 4.1399 - mae: 4.6327\n",
            "Epoch 20/100\n",
            "10/10 [==============================] - 4s 420ms/step - loss: 3.9651 - mae: 4.4549\n",
            "Epoch 21/100\n",
            "10/10 [==============================] - 4s 414ms/step - loss: 3.8346 - mae: 4.3217\n",
            "Epoch 22/100\n",
            "10/10 [==============================] - 4s 406ms/step - loss: 3.7402 - mae: 4.2251\n",
            "Epoch 23/100\n",
            "10/10 [==============================] - 4s 412ms/step - loss: 3.6694 - mae: 4.1528\n",
            "Epoch 24/100\n",
            "10/10 [==============================] - 4s 408ms/step - loss: 3.6125 - mae: 4.0945\n",
            "Epoch 25/100\n",
            "10/10 [==============================] - 4s 414ms/step - loss: 3.5635 - mae: 4.0443\n",
            "Epoch 26/100\n",
            "10/10 [==============================] - 4s 415ms/step - loss: 3.5175 - mae: 3.9975\n",
            "Epoch 27/100\n",
            "10/10 [==============================] - 4s 406ms/step - loss: 3.4715 - mae: 3.9509\n",
            "Epoch 28/100\n",
            "10/10 [==============================] - 4s 414ms/step - loss: 3.4249 - mae: 3.9038\n",
            "Epoch 29/100\n",
            "10/10 [==============================] - 4s 408ms/step - loss: 3.3773 - mae: 3.8556\n",
            "Epoch 30/100\n",
            "10/10 [==============================] - 4s 416ms/step - loss: 3.3292 - mae: 3.8069\n",
            "Epoch 31/100\n",
            "10/10 [==============================] - 4s 415ms/step - loss: 3.2807 - mae: 3.7579\n",
            "Epoch 32/100\n",
            "10/10 [==============================] - 4s 419ms/step - loss: 3.2319 - mae: 3.7086\n",
            "Epoch 33/100\n",
            "10/10 [==============================] - 4s 416ms/step - loss: 3.1834 - mae: 3.6597\n",
            "Epoch 34/100\n",
            "10/10 [==============================] - 4s 422ms/step - loss: 3.1358 - mae: 3.6114\n",
            "Epoch 35/100\n",
            "10/10 [==============================] - 4s 419ms/step - loss: 3.0890 - mae: 3.5639\n",
            "Epoch 36/100\n",
            "10/10 [==============================] - 4s 411ms/step - loss: 3.0437 - mae: 3.5181\n",
            "Epoch 37/100\n",
            "10/10 [==============================] - 4s 417ms/step - loss: 3.0007 - mae: 3.4743\n",
            "Epoch 38/100\n",
            "10/10 [==============================] - 4s 412ms/step - loss: 2.9598 - mae: 3.4325\n",
            "Epoch 39/100\n",
            "10/10 [==============================] - 4s 414ms/step - loss: 2.9223 - mae: 3.3938\n",
            "Epoch 40/100\n",
            "10/10 [==============================] - 4s 422ms/step - loss: 2.8896 - mae: 3.3592\n",
            "Epoch 41/100\n",
            "10/10 [==============================] - 4s 414ms/step - loss: 2.8637 - mae: 3.3312\n",
            "Epoch 42/100\n",
            "10/10 [==============================] - 4s 423ms/step - loss: 2.8423 - mae: 3.3095\n",
            "Epoch 43/100\n",
            "10/10 [==============================] - 4s 411ms/step - loss: 2.8086 - mae: 3.2802\n",
            "Epoch 44/100\n",
            "10/10 [==============================] - 4s 416ms/step - loss: 2.7510 - mae: 3.2260\n",
            "Epoch 45/100\n",
            "10/10 [==============================] - 4s 416ms/step - loss: 2.6800 - mae: 3.1528\n",
            "Epoch 46/100\n",
            "10/10 [==============================] - 4s 414ms/step - loss: 2.6111 - mae: 3.0807\n",
            "Epoch 47/100\n",
            "10/10 [==============================] - 4s 420ms/step - loss: 2.5737 - mae: 3.0435\n",
            "Epoch 48/100\n",
            "10/10 [==============================] - 4s 414ms/step - loss: 2.5464 - mae: 3.0153\n",
            "Epoch 49/100\n",
            "10/10 [==============================] - 4s 415ms/step - loss: 2.5177 - mae: 2.9859\n",
            "Epoch 50/100\n",
            "10/10 [==============================] - 4s 412ms/step - loss: 2.5001 - mae: 2.9680\n",
            "Epoch 51/100\n",
            "10/10 [==============================] - 4s 413ms/step - loss: 2.4927 - mae: 2.9614\n",
            "Epoch 52/100\n",
            "10/10 [==============================] - 4s 410ms/step - loss: 2.5016 - mae: 2.9714\n",
            "Epoch 53/100\n",
            "10/10 [==============================] - 4s 410ms/step - loss: 2.5345 - mae: 3.0032\n",
            "Epoch 54/100\n",
            "10/10 [==============================] - 4s 413ms/step - loss: 2.5317 - mae: 3.0045\n",
            "Epoch 55/100\n",
            "10/10 [==============================] - 4s 418ms/step - loss: 2.4230 - mae: 2.8886\n",
            "Epoch 56/100\n",
            "10/10 [==============================] - 4s 413ms/step - loss: 2.4430 - mae: 2.9061\n",
            "Epoch 57/100\n",
            "10/10 [==============================] - 4s 413ms/step - loss: 2.4660 - mae: 2.9239\n",
            "Epoch 58/100\n",
            "10/10 [==============================] - 4s 416ms/step - loss: 2.4758 - mae: 2.9413\n",
            "Epoch 59/100\n",
            "10/10 [==============================] - 4s 416ms/step - loss: 2.5416 - mae: 3.0021\n",
            "Epoch 60/100\n",
            "10/10 [==============================] - 4s 421ms/step - loss: 2.6118 - mae: 3.0918\n",
            "Epoch 61/100\n",
            "10/10 [==============================] - 4s 422ms/step - loss: 2.7930 - mae: 3.2731\n",
            "Epoch 62/100\n",
            "10/10 [==============================] - 4s 415ms/step - loss: 3.1632 - mae: 3.6640\n",
            "Epoch 63/100\n",
            "10/10 [==============================] - 4s 406ms/step - loss: 3.3717 - mae: 3.8952\n",
            "Epoch 64/100\n",
            "10/10 [==============================] - 4s 407ms/step - loss: 3.5042 - mae: 3.9626\n",
            "Epoch 65/100\n",
            "10/10 [==============================] - 4s 409ms/step - loss: 3.9671 - mae: 4.4355\n",
            "Epoch 66/100\n",
            "10/10 [==============================] - 4s 407ms/step - loss: 4.5138 - mae: 4.9317\n",
            "Epoch 67/100\n",
            "10/10 [==============================] - 4s 408ms/step - loss: 4.5626 - mae: 5.0292\n",
            "Epoch 68/100\n",
            "10/10 [==============================] - 4s 411ms/step - loss: 5.0233 - mae: 5.4911\n",
            "Epoch 69/100\n",
            "10/10 [==============================] - 4s 407ms/step - loss: 5.1292 - mae: 5.5742\n",
            "Epoch 70/100\n",
            "10/10 [==============================] - 4s 408ms/step - loss: 5.3383 - mae: 5.7818\n",
            "Epoch 71/100\n",
            "10/10 [==============================] - 4s 408ms/step - loss: 5.4056 - mae: 5.8516\n",
            "Epoch 72/100\n",
            "10/10 [==============================] - 4s 407ms/step - loss: 5.3764 - mae: 5.7957\n",
            "Epoch 73/100\n",
            "10/10 [==============================] - 4s 414ms/step - loss: 4.2111 - mae: 4.7099\n",
            "Epoch 74/100\n",
            "10/10 [==============================] - 4s 424ms/step - loss: 3.6658 - mae: 4.1710\n",
            "Epoch 75/100\n",
            "10/10 [==============================] - 4s 428ms/step - loss: 4.0147 - mae: 4.5257\n",
            "Epoch 76/100\n",
            "10/10 [==============================] - 4s 424ms/step - loss: 3.8712 - mae: 4.4088\n",
            "Epoch 77/100\n",
            "10/10 [==============================] - 4s 422ms/step - loss: 3.8878 - mae: 4.4049\n",
            "Epoch 78/100\n",
            "10/10 [==============================] - 4s 419ms/step - loss: 4.4451 - mae: 4.9149\n",
            "Epoch 79/100\n",
            "10/10 [==============================] - 4s 414ms/step - loss: 4.8613 - mae: 5.3831\n",
            "Epoch 80/100\n",
            "10/10 [==============================] - 4s 414ms/step - loss: 14.3470 - mae: 15.0875\n",
            "Epoch 81/100\n",
            "10/10 [==============================] - 4s 420ms/step - loss: 16.9174 - mae: 17.2623\n",
            "Epoch 82/100\n",
            "10/10 [==============================] - 4s 416ms/step - loss: 12.9341 - mae: 13.1031\n",
            "Epoch 83/100\n",
            "10/10 [==============================] - 4s 418ms/step - loss: 18.5680 - mae: 18.7712\n",
            "Epoch 84/100\n",
            "10/10 [==============================] - 4s 418ms/step - loss: 19.1276 - mae: 20.1010\n",
            "Epoch 85/100\n",
            "10/10 [==============================] - 4s 410ms/step - loss: 25.0943 - mae: 25.9562\n",
            "Epoch 86/100\n",
            "10/10 [==============================] - 4s 411ms/step - loss: 27.2979 - mae: 27.0169\n",
            "Epoch 87/100\n",
            "10/10 [==============================] - 4s 419ms/step - loss: 27.2493 - mae: 28.5461\n",
            "Epoch 88/100\n",
            "10/10 [==============================] - 4s 422ms/step - loss: 32.8564 - mae: 32.9523\n",
            "Epoch 89/100\n",
            "10/10 [==============================] - 4s 418ms/step - loss: 66.9200 - mae: 67.1268\n",
            "Epoch 90/100\n",
            "10/10 [==============================] - 4s 411ms/step - loss: 28.2742 - mae: 27.3634\n",
            "Epoch 91/100\n",
            "10/10 [==============================] - 4s 420ms/step - loss: 31.7370 - mae: 33.5611\n",
            "Epoch 92/100\n",
            "10/10 [==============================] - 4s 418ms/step - loss: 49.3101 - mae: 50.8230\n",
            "Epoch 93/100\n",
            "10/10 [==============================] - 4s 416ms/step - loss: 15.8049 - mae: 16.1870\n",
            "Epoch 94/100\n",
            "10/10 [==============================] - 4s 415ms/step - loss: 17.4672 - mae: 17.4949\n",
            "Epoch 95/100\n",
            "10/10 [==============================] - 4s 415ms/step - loss: 20.4727 - mae: 20.6840\n",
            "Epoch 96/100\n",
            "10/10 [==============================] - 4s 418ms/step - loss: 22.7271 - mae: 23.1291\n",
            "Epoch 97/100\n",
            "10/10 [==============================] - 4s 415ms/step - loss: 25.9050 - mae: 26.1785\n",
            "Epoch 98/100\n",
            "10/10 [==============================] - 4s 417ms/step - loss: 29.9775 - mae: 29.6829\n",
            "Epoch 99/100\n",
            "10/10 [==============================] - 4s 416ms/step - loss: 31.2160 - mae: 32.2827\n",
            "Epoch 100/100\n",
            "10/10 [==============================] - 4s 416ms/step - loss: 37.8361 - mae: 38.4650\n"
          ],
          "name": "stdout"
        }
      ]
    },
    {
      "cell_type": "code",
      "metadata": {
        "id": "vVcKmg7Q_7rD",
        "colab_type": "code",
        "outputId": "2659eb39-f975-4cd3-a5f9-8b06e266786c",
        "colab": {
          "base_uri": "https://localhost:8080/",
          "height": 291
        }
      },
      "source": [
        "plt.semilogx(history.history[\"lr\"], history.history[\"loss\"])\n",
        "\n",
        "plt.axis([1e-8, 1e-4, 0, 60])"
      ],
      "execution_count": 11,
      "outputs": [
        {
          "output_type": "execute_result",
          "data": {
            "text/plain": [
              "[1e-08, 0.0001, 0, 60]"
            ]
          },
          "metadata": {
            "tags": []
          },
          "execution_count": 11
        },
        {
          "output_type": "display_data",
          "data": {
            "image/png": "[encoded data removed]",
            "text/plain": [
              "<Figure size 432x288 with 1 Axes>"
            ]
          },
          "metadata": {
            "tags": []
          }
        }
      ]
    },
    {
      "cell_type": "code",
      "metadata": {
        "id": "QsksvkcXAAgq",
        "colab_type": "code",
        "outputId": "55e3428d-692f-4519-b162-3d1f1f61a259",
        "colab": {
          "base_uri": "https://localhost:8080/",
          "height": 1000
        }
      },
      "source": [
        "tf.keras.backend.clear_session()\n",
        "tf.random.set_seed(51)\n",
        "np.random.seed(51)\n",
        "\n",
        "train_set = windowed_dataset(x_train, window_size=60, batch_size=100, \n",
        "                             shuffle_buffer = shuffle_buffer_size)\n",
        "\n",
        "model = tf.keras.models.Sequential([\n",
        "  tf.keras.layers.Conv1D(filters=60, kernel_size=5,\n",
        "                      strides=1, padding=\"causal\",\n",
        "                      activation=\"relu\",\n",
        "                      input_shape=[None, 1]),\n",
        "  tf.keras.layers.LSTM(60, return_sequences=True),\n",
        "  tf.keras.layers.LSTM(60, return_sequences=True),\n",
        "  tf.keras.layers.Dense(30, activation=\"relu\"),\n",
        "  tf.keras.layers.Dense(10, activation=\"relu\"),\n",
        "  tf.keras.layers.Dense(1),\n",
        "  tf.keras.layers.Lambda(lambda x: x * 400)\n",
        "])\n",
        "\n",
        "\n",
        "optimizer = tf.keras.optimizers.SGD(lr=1e-5, momentum=0.9)\n",
        "\n",
        "model.compile(loss=tf.keras.losses.Huber(),\n",
        "              optimizer=optimizer,\n",
        "              metrics=[\"mae\"])\n",
        "\n",
        "history = model.fit(train_set,epochs=150)"
      ],
      "execution_count": 12,
      "outputs": [
        {
          "output_type": "stream",
          "text": [
            "Epoch 1/150\n",
            "25/25 [==============================] - 7s 264ms/step - loss: 9.8067 - mae: 10.4597\n",
            "Epoch 2/150\n",
            "25/25 [==============================] - 4s 151ms/step - loss: 2.8438 - mae: 3.3216\n",
            "Epoch 3/150\n",
            "25/25 [==============================] - 4s 154ms/step - loss: 2.3219 - mae: 2.7798\n",
            "Epoch 4/150\n",
            "25/25 [==============================] - 4s 152ms/step - loss: 2.2885 - mae: 2.7465\n",
            "Epoch 5/150\n",
            "25/25 [==============================] - 4s 151ms/step - loss: 2.2720 - mae: 2.7297\n",
            "Epoch 6/150\n",
            "25/25 [==============================] - 4s 151ms/step - loss: 2.2644 - mae: 2.7219\n",
            "Epoch 7/150\n",
            "25/25 [==============================] - 4s 153ms/step - loss: 2.2572 - mae: 2.7146\n",
            "Epoch 8/150\n",
            "25/25 [==============================] - 4s 154ms/step - loss: 2.2511 - mae: 2.7083\n",
            "Epoch 9/150\n",
            "25/25 [==============================] - 4s 150ms/step - loss: 2.2457 - mae: 2.7029\n",
            "Epoch 10/150\n",
            "25/25 [==============================] - 4s 151ms/step - loss: 2.2406 - mae: 2.6977\n",
            "Epoch 11/150\n",
            "25/25 [==============================] - 4s 153ms/step - loss: 2.2358 - mae: 2.6927\n",
            "Epoch 12/150\n",
            "25/25 [==============================] - 4s 149ms/step - loss: 2.2311 - mae: 2.6880\n",
            "Epoch 13/150\n",
            "25/25 [==============================] - 4s 147ms/step - loss: 2.2266 - mae: 2.6833\n",
            "Epoch 14/150\n",
            "25/25 [==============================] - 4s 153ms/step - loss: 2.2223 - mae: 2.6789\n",
            "Epoch 15/150\n",
            "25/25 [==============================] - 4s 152ms/step - loss: 2.2188 - mae: 2.6753\n",
            "Epoch 16/150\n",
            "25/25 [==============================] - 4s 152ms/step - loss: 2.2157 - mae: 2.6722\n",
            "Epoch 17/150\n",
            "25/25 [==============================] - 4s 154ms/step - loss: 2.2128 - mae: 2.6693\n",
            "Epoch 18/150\n",
            "25/25 [==============================] - 4s 152ms/step - loss: 2.2102 - mae: 2.6665\n",
            "Epoch 19/150\n",
            "25/25 [==============================] - 4s 154ms/step - loss: 2.2078 - mae: 2.6641\n",
            "Epoch 20/150\n",
            "25/25 [==============================] - 4s 155ms/step - loss: 2.2054 - mae: 2.6617\n",
            "Epoch 21/150\n",
            "25/25 [==============================] - 4s 151ms/step - loss: 2.2033 - mae: 2.6596\n",
            "Epoch 22/150\n",
            "25/25 [==============================] - 4s 153ms/step - loss: 2.2015 - mae: 2.6576\n",
            "Epoch 23/150\n",
            "25/25 [==============================] - 4s 152ms/step - loss: 2.1998 - mae: 2.6560\n",
            "Epoch 24/150\n",
            "25/25 [==============================] - 4s 148ms/step - loss: 2.1982 - mae: 2.6543\n",
            "Epoch 25/150\n",
            "25/25 [==============================] - 4s 152ms/step - loss: 2.1967 - mae: 2.6527\n",
            "Epoch 26/150\n",
            "25/25 [==============================] - 4s 151ms/step - loss: 2.1952 - mae: 2.6512\n",
            "Epoch 27/150\n",
            "25/25 [==============================] - 4s 156ms/step - loss: 2.1937 - mae: 2.6497\n",
            "Epoch 28/150\n",
            "25/25 [==============================] - 4s 155ms/step - loss: 2.1924 - mae: 2.6484\n",
            "Epoch 29/150\n",
            "25/25 [==============================] - 4s 151ms/step - loss: 2.1910 - mae: 2.6470\n",
            "Epoch 30/150\n",
            "25/25 [==============================] - 4s 152ms/step - loss: 2.1897 - mae: 2.6456\n",
            "Epoch 31/150\n",
            "25/25 [==============================] - 4s 154ms/step - loss: 2.1884 - mae: 2.6443\n",
            "Epoch 32/150\n",
            "25/25 [==============================] - 4s 152ms/step - loss: 2.1873 - mae: 2.6431\n",
            "Epoch 33/150\n",
            "25/25 [==============================] - 4s 151ms/step - loss: 2.1862 - mae: 2.6420\n",
            "Epoch 34/150\n",
            "25/25 [==============================] - 4s 152ms/step - loss: 2.1851 - mae: 2.6409\n",
            "Epoch 35/150\n",
            "25/25 [==============================] - 4s 152ms/step - loss: 2.1841 - mae: 2.6398\n",
            "Epoch 36/150\n",
            "25/25 [==============================] - 4s 151ms/step - loss: 2.1831 - mae: 2.6389\n",
            "Epoch 37/150\n",
            "25/25 [==============================] - 4s 153ms/step - loss: 2.1821 - mae: 2.6379\n",
            "Epoch 38/150\n",
            "25/25 [==============================] - 4s 151ms/step - loss: 2.1812 - mae: 2.6369\n",
            "Epoch 39/150\n",
            "25/25 [==============================] - 4s 150ms/step - loss: 2.1803 - mae: 2.6360\n",
            "Epoch 40/150\n",
            "25/25 [==============================] - 4s 150ms/step - loss: 2.1793 - mae: 2.6350\n",
            "Epoch 41/150\n",
            "25/25 [==============================] - 4s 154ms/step - loss: 2.1784 - mae: 2.6341\n",
            "Epoch 42/150\n",
            "25/25 [==============================] - 4s 153ms/step - loss: 2.1777 - mae: 2.6333\n",
            "Epoch 43/150\n",
            "25/25 [==============================] - 4s 156ms/step - loss: 2.1767 - mae: 2.6323\n",
            "Epoch 44/150\n",
            "25/25 [==============================] - 4s 154ms/step - loss: 2.1758 - mae: 2.6313\n",
            "Epoch 45/150\n",
            "25/25 [==============================] - 4s 154ms/step - loss: 2.1749 - mae: 2.6304\n",
            "Epoch 46/150\n",
            "25/25 [==============================] - 4s 152ms/step - loss: 2.1740 - mae: 2.6295\n",
            "Epoch 47/150\n",
            "25/25 [==============================] - 4s 152ms/step - loss: 2.1731 - mae: 2.6286\n",
            "Epoch 48/150\n",
            "25/25 [==============================] - 4s 150ms/step - loss: 2.1723 - mae: 2.6277\n",
            "Epoch 49/150\n",
            "25/25 [==============================] - 4s 152ms/step - loss: 2.1715 - mae: 2.6270\n",
            "Epoch 50/150\n",
            "25/25 [==============================] - 4s 151ms/step - loss: 2.1708 - mae: 2.6262\n",
            "Epoch 51/150\n",
            "25/25 [==============================] - 4s 147ms/step - loss: 2.1700 - mae: 2.6254\n",
            "Epoch 52/150\n",
            "25/25 [==============================] - 4s 151ms/step - loss: 2.1693 - mae: 2.6247\n",
            "Epoch 53/150\n",
            "25/25 [==============================] - 4s 154ms/step - loss: 2.1688 - mae: 2.6242\n",
            "Epoch 54/150\n",
            "25/25 [==============================] - 4s 154ms/step - loss: 2.1682 - mae: 2.6236\n",
            "Epoch 55/150\n",
            "25/25 [==============================] - 4s 151ms/step - loss: 2.1675 - mae: 2.6229\n",
            "Epoch 56/150\n",
            "25/25 [==============================] - 4s 151ms/step - loss: 2.1669 - mae: 2.6222\n",
            "Epoch 57/150\n",
            "25/25 [==============================] - 4s 150ms/step - loss: 2.1663 - mae: 2.6216\n",
            "Epoch 58/150\n",
            "25/25 [==============================] - 4s 152ms/step - loss: 2.1657 - mae: 2.6210\n",
            "Epoch 59/150\n",
            "25/25 [==============================] - 4s 153ms/step - loss: 2.1650 - mae: 2.6204\n",
            "Epoch 60/150\n",
            "25/25 [==============================] - 4s 153ms/step - loss: 2.1645 - mae: 2.6198\n",
            "Epoch 61/150\n",
            "25/25 [==============================] - 4s 152ms/step - loss: 2.1639 - mae: 2.6192\n",
            "Epoch 62/150\n",
            "25/25 [==============================] - 4s 151ms/step - loss: 2.1633 - mae: 2.6186\n",
            "Epoch 63/150\n",
            "25/25 [==============================] - 4s 152ms/step - loss: 2.1627 - mae: 2.6180\n",
            "Epoch 64/150\n",
            "25/25 [==============================] - 4s 151ms/step - loss: 2.1621 - mae: 2.6174\n",
            "Epoch 65/150\n",
            "25/25 [==============================] - 4s 152ms/step - loss: 2.1615 - mae: 2.6167\n",
            "Epoch 66/150\n",
            "25/25 [==============================] - 4s 153ms/step - loss: 2.1609 - mae: 2.6161\n",
            "Epoch 67/150\n",
            "25/25 [==============================] - 4s 154ms/step - loss: 2.1603 - mae: 2.6155\n",
            "Epoch 68/150\n",
            "25/25 [==============================] - 4s 151ms/step - loss: 2.1598 - mae: 2.6150\n",
            "Epoch 69/150\n",
            "25/25 [==============================] - 4s 151ms/step - loss: 2.1593 - mae: 2.6144\n",
            "Epoch 70/150\n",
            "25/25 [==============================] - 4s 154ms/step - loss: 2.1588 - mae: 2.6139\n",
            "Epoch 71/150\n",
            "25/25 [==============================] - 4s 153ms/step - loss: 2.1582 - mae: 2.6134\n",
            "Epoch 72/150\n",
            "25/25 [==============================] - 4s 154ms/step - loss: 2.1577 - mae: 2.6128\n",
            "Epoch 73/150\n",
            "25/25 [==============================] - 4s 152ms/step - loss: 2.1572 - mae: 2.6123\n",
            "Epoch 74/150\n",
            "25/25 [==============================] - 4s 149ms/step - loss: 2.1568 - mae: 2.6119\n",
            "Epoch 75/150\n",
            "25/25 [==============================] - 4s 152ms/step - loss: 2.1563 - mae: 2.6114\n",
            "Epoch 76/150\n",
            "25/25 [==============================] - 4s 153ms/step - loss: 2.1558 - mae: 2.6109\n",
            "Epoch 77/150\n",
            "25/25 [==============================] - 4s 152ms/step - loss: 2.1554 - mae: 2.6105\n",
            "Epoch 78/150\n",
            "25/25 [==============================] - 4s 154ms/step - loss: 2.1550 - mae: 2.6101\n",
            "Epoch 79/150\n",
            "25/25 [==============================] - 4s 150ms/step - loss: 2.1546 - mae: 2.6097\n",
            "Epoch 80/150\n",
            "25/25 [==============================] - 4s 152ms/step - loss: 2.1541 - mae: 2.6092\n",
            "Epoch 81/150\n",
            "25/25 [==============================] - 4s 153ms/step - loss: 2.1537 - mae: 2.6088\n",
            "Epoch 82/150\n",
            "25/25 [==============================] - 4s 152ms/step - loss: 2.1533 - mae: 2.6084\n",
            "Epoch 83/150\n",
            "25/25 [==============================] - 4s 150ms/step - loss: 2.1530 - mae: 2.6080\n",
            "Epoch 84/150\n",
            "25/25 [==============================] - 4s 154ms/step - loss: 2.1525 - mae: 2.6076\n",
            "Epoch 85/150\n",
            "25/25 [==============================] - 4s 152ms/step - loss: 2.1521 - mae: 2.6072\n",
            "Epoch 86/150\n",
            "25/25 [==============================] - 4s 149ms/step - loss: 2.1517 - mae: 2.6068\n",
            "Epoch 87/150\n",
            "25/25 [==============================] - 4s 151ms/step - loss: 2.1513 - mae: 2.6064\n",
            "Epoch 88/150\n",
            "25/25 [==============================] - 4s 149ms/step - loss: 2.1510 - mae: 2.6061\n",
            "Epoch 89/150\n",
            "25/25 [==============================] - 4s 150ms/step - loss: 2.1506 - mae: 2.6057\n",
            "Epoch 90/150\n",
            "25/25 [==============================] - 4s 152ms/step - loss: 2.1503 - mae: 2.6053\n",
            "Epoch 91/150\n",
            "25/25 [==============================] - 4s 151ms/step - loss: 2.1499 - mae: 2.6050\n",
            "Epoch 92/150\n",
            "25/25 [==============================] - 4s 149ms/step - loss: 2.1496 - mae: 2.6047\n",
            "Epoch 93/150\n",
            "25/25 [==============================] - 4s 148ms/step - loss: 2.1492 - mae: 2.6043\n",
            "Epoch 94/150\n",
            "25/25 [==============================] - 4s 149ms/step - loss: 2.1489 - mae: 2.6040\n",
            "Epoch 95/150\n",
            "25/25 [==============================] - 4s 149ms/step - loss: 2.1485 - mae: 2.6036\n",
            "Epoch 96/150\n",
            "25/25 [==============================] - 4s 151ms/step - loss: 2.1482 - mae: 2.6033\n",
            "Epoch 97/150\n",
            "25/25 [==============================] - 4s 151ms/step - loss: 2.1478 - mae: 2.6029\n",
            "Epoch 98/150\n",
            "25/25 [==============================] - 4s 149ms/step - loss: 2.1475 - mae: 2.6026\n",
            "Epoch 99/150\n",
            "25/25 [==============================] - 4s 149ms/step - loss: 2.1471 - mae: 2.6022\n",
            "Epoch 100/150\n",
            "25/25 [==============================] - 4s 149ms/step - loss: 2.1468 - mae: 2.6018\n",
            "Epoch 101/150\n",
            "25/25 [==============================] - 4s 150ms/step - loss: 2.1464 - mae: 2.6015\n",
            "Epoch 102/150\n",
            "25/25 [==============================] - 4s 149ms/step - loss: 2.1461 - mae: 2.6011\n",
            "Epoch 103/150\n",
            "25/25 [==============================] - 4s 148ms/step - loss: 2.1457 - mae: 2.6008\n",
            "Epoch 104/150\n",
            "25/25 [==============================] - 4s 150ms/step - loss: 2.1454 - mae: 2.6004\n",
            "Epoch 105/150\n",
            "25/25 [==============================] - 4s 148ms/step - loss: 2.1450 - mae: 2.6001\n",
            "Epoch 106/150\n",
            "25/25 [==============================] - 4s 146ms/step - loss: 2.1447 - mae: 2.5997\n",
            "Epoch 107/150\n",
            "25/25 [==============================] - 4s 152ms/step - loss: 2.1443 - mae: 2.5994\n",
            "Epoch 108/150\n",
            "25/25 [==============================] - 4s 152ms/step - loss: 2.1439 - mae: 2.5990\n",
            "Epoch 109/150\n",
            "25/25 [==============================] - 4s 145ms/step - loss: 2.1436 - mae: 2.5986\n",
            "Epoch 110/150\n",
            "25/25 [==============================] - 4s 149ms/step - loss: 2.1432 - mae: 2.5983\n",
            "Epoch 111/150\n",
            "25/25 [==============================] - 4s 147ms/step - loss: 2.1429 - mae: 2.5979\n",
            "Epoch 112/150\n",
            "25/25 [==============================] - 4s 152ms/step - loss: 2.1426 - mae: 2.5976\n",
            "Epoch 113/150\n",
            "25/25 [==============================] - 4s 151ms/step - loss: 2.1422 - mae: 2.5972\n",
            "Epoch 114/150\n",
            "25/25 [==============================] - 4s 150ms/step - loss: 2.1419 - mae: 2.5969\n",
            "Epoch 115/150\n",
            "25/25 [==============================] - 4s 150ms/step - loss: 2.1415 - mae: 2.5965\n",
            "Epoch 116/150\n",
            "25/25 [==============================] - 4s 151ms/step - loss: 2.1412 - mae: 2.5962\n",
            "Epoch 117/150\n",
            "25/25 [==============================] - 4s 152ms/step - loss: 2.1409 - mae: 2.5958\n",
            "Epoch 118/150\n",
            "25/25 [==============================] - 4s 153ms/step - loss: 2.1406 - mae: 2.5955\n",
            "Epoch 119/150\n",
            "25/25 [==============================] - 4s 152ms/step - loss: 2.1402 - mae: 2.5952\n",
            "Epoch 120/150\n",
            "25/25 [==============================] - 4s 150ms/step - loss: 2.1399 - mae: 2.5949\n",
            "Epoch 121/150\n",
            "25/25 [==============================] - 4s 152ms/step - loss: 2.1396 - mae: 2.5946\n",
            "Epoch 122/150\n",
            "25/25 [==============================] - 4s 150ms/step - loss: 2.1393 - mae: 2.5942\n",
            "Epoch 123/150\n",
            "25/25 [==============================] - 4s 151ms/step - loss: 2.1390 - mae: 2.5939\n",
            "Epoch 124/150\n",
            "25/25 [==============================] - 4s 152ms/step - loss: 2.1388 - mae: 2.5937\n",
            "Epoch 125/150\n",
            "25/25 [==============================] - 4s 151ms/step - loss: 2.1385 - mae: 2.5934\n",
            "Epoch 126/150\n",
            "25/25 [==============================] - 4s 150ms/step - loss: 2.1382 - mae: 2.5931\n",
            "Epoch 127/150\n",
            "25/25 [==============================] - 4s 155ms/step - loss: 2.1379 - mae: 2.5928\n",
            "Epoch 128/150\n",
            "25/25 [==============================] - 4s 152ms/step - loss: 2.1377 - mae: 2.5926\n",
            "Epoch 129/150\n",
            "25/25 [==============================] - 4s 153ms/step - loss: 2.1375 - mae: 2.5923\n",
            "Epoch 130/150\n",
            "25/25 [==============================] - 4s 153ms/step - loss: 2.1372 - mae: 2.5921\n",
            "Epoch 131/150\n",
            "25/25 [==============================] - 4s 152ms/step - loss: 2.1370 - mae: 2.5918\n",
            "Epoch 132/150\n",
            "25/25 [==============================] - 4s 152ms/step - loss: 2.1367 - mae: 2.5915\n",
            "Epoch 133/150\n",
            "25/25 [==============================] - 4s 154ms/step - loss: 2.1364 - mae: 2.5913\n",
            "Epoch 134/150\n",
            "25/25 [==============================] - 4s 152ms/step - loss: 2.1362 - mae: 2.5910\n",
            "Epoch 135/150\n",
            "25/25 [==============================] - 4s 152ms/step - loss: 2.1359 - mae: 2.5908\n",
            "Epoch 136/150\n",
            "25/25 [==============================] - 4s 152ms/step - loss: 2.1357 - mae: 2.5905\n",
            "Epoch 137/150\n",
            "25/25 [==============================] - 4s 152ms/step - loss: 2.1354 - mae: 2.5902\n",
            "Epoch 138/150\n",
            "25/25 [==============================] - 4s 153ms/step - loss: 2.1351 - mae: 2.5899\n",
            "Epoch 139/150\n",
            "25/25 [==============================] - 4s 152ms/step - loss: 2.1349 - mae: 2.5897\n",
            "Epoch 140/150\n",
            "25/25 [==============================] - 4s 150ms/step - loss: 2.1347 - mae: 2.5895\n",
            "Epoch 141/150\n",
            "25/25 [==============================] - 4s 151ms/step - loss: 2.1344 - mae: 2.5892\n",
            "Epoch 142/150\n",
            "25/25 [==============================] - 4s 155ms/step - loss: 2.1342 - mae: 2.5890\n",
            "Epoch 143/150\n",
            "25/25 [==============================] - 4s 153ms/step - loss: 2.1340 - mae: 2.5887\n",
            "Epoch 144/150\n",
            "25/25 [==============================] - 4s 152ms/step - loss: 2.1337 - mae: 2.5885\n",
            "Epoch 145/150\n",
            "25/25 [==============================] - 4s 151ms/step - loss: 2.1335 - mae: 2.5883\n",
            "Epoch 146/150\n",
            "25/25 [==============================] - 4s 151ms/step - loss: 2.1333 - mae: 2.5881\n",
            "Epoch 147/150\n",
            "25/25 [==============================] - 4s 152ms/step - loss: 2.1331 - mae: 2.5879\n",
            "Epoch 148/150\n",
            "25/25 [==============================] - 4s 152ms/step - loss: 2.1329 - mae: 2.5877\n",
            "Epoch 149/150\n",
            "25/25 [==============================] - 4s 150ms/step - loss: 2.1327 - mae: 2.5875\n",
            "Epoch 150/150\n",
            "25/25 [==============================] - 4s 153ms/step - loss: 2.1325 - mae: 2.5873\n"
          ],
          "name": "stdout"
        }
      ]
    },
    {
      "cell_type": "code",
      "metadata": {
        "id": "GaC6NNMRp0lb",
        "colab_type": "code",
        "colab": {}
      },
      "source": [
        "lstm_forecast = model_forecast(model, series[..., np.newaxis], window_size)\n",
        "\n",
        "lstm_forecast = lstm_forecast[split_time - window_size:-1, -1, 0]"
      ],
      "execution_count": 0,
      "outputs": []
    },
    {
      "cell_type": "code",
      "metadata": {
        "id": "PrktQX3hKYex",
        "colab_type": "code",
        "outputId": "891398dd-d86d-48e0-ab15-fc61c869230f",
        "colab": {
          "base_uri": "https://localhost:8080/",
          "height": 392
        }
      },
      "source": [
        "plt.figure(figsize=(10, 6))\n",
        "\n",
        "plot_series(time_valid, x_valid)\n",
        "plot_series(time_valid, lstm_forecast)"
      ],
      "execution_count": 14,
      "outputs": [
        {
          "output_type": "display_data",
          "data": {
            "image/png": "[encoded data removed]",
            "text/plain": [
              "<Figure size 720x432 with 1 Axes>"
            ]
          },
          "metadata": {
            "tags": []
          }
        }
      ]
    },
    {
      "cell_type": "code",
      "metadata": {
        "id": "13XrorC5wQoE",
        "colab_type": "code",
        "outputId": "a3e5ee6a-2b44-4a89-d503-85bc60bdf06c",
        "colab": {
          "base_uri": "https://localhost:8080/",
          "height": 35
        }
      },
      "source": [
        "tf.keras.metrics.mean_absolute_error(x_valid, lstm_forecast).numpy()"
      ],
      "execution_count": 15,
      "outputs": [
        {
          "output_type": "execute_result",
          "data": {
            "text/plain": [
              "2.0914"
            ]
          },
          "metadata": {
            "tags": []
          },
          "execution_count": 15
        }
      ]
    },
    {
      "cell_type": "code",
      "metadata": {
        "id": "AOVzQXxCwkzP",
        "colab_type": "code",
        "outputId": "10a4bc5e-85f4-4844-eb4d-74c0cfbd5f67",
        "colab": {
          "base_uri": "https://localhost:8080/",
          "height": 35
        }
      },
      "source": [
        "print(lstm_forecast)"
      ],
      "execution_count": 16,
      "outputs": [
        {
          "output_type": "stream",
          "text": [
            "[11.358818 11.685274 11.800216 ... 13.588836 13.554807 13.765046]\n"
          ],
          "name": "stdout"
        }
      ]
    }
  ]
}